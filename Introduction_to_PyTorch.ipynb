{
  "nbformat": 4,
  "nbformat_minor": 0,
  "metadata": {
    "colab": {
      "provenance": [],
      "gpuType": "T4",
      "include_colab_link": true
    },
    "kernelspec": {
      "name": "python3",
      "display_name": "Python 3"
    },
    "language_info": {
      "name": "python"
    },
    "accelerator": "GPU"
  },
  "cells": [
    {
      "cell_type": "markdown",
      "metadata": {
        "id": "view-in-github",
        "colab_type": "text"
      },
      "source": [
        "<a href=\"https://colab.research.google.com/github/Praveen76/Introduction-to-PyTorch/blob/main/Introduction_to_PyTorch.ipynb\" target=\"_parent\"><img src=\"https://colab.research.google.com/assets/colab-badge.svg\" alt=\"Open In Colab\"/></a>"
      ]
    },
    {
      "cell_type": "markdown",
      "source": [
        "## Learning Objectives\n",
        "\n",
        "At the end of the experiment, you will be able to\n",
        "\n",
        "* understand & build different components of Model Class in PyTorch through a regression example\n",
        "* understand & build  the train and test loop in PyTorch\n",
        "* understand & build Customdataset Class in PyTorch\n",
        "* understand batch processing in PyTorch\n",
        "* understand & use dataloader in PyTorch"
      ],
      "metadata": {
        "id": "Uvitdh7p2xbG"
      }
    },
    {
      "cell_type": "code",
      "source": [
        "import torch\n",
        "import pandas as pd\n",
        "import numpy as np\n",
        "from sklearn.model_selection import train_test_split\n",
        "from sklearn import metrics\n",
        "import matplotlib.pyplot as plt"
      ],
      "metadata": {
        "id": "-daPbjVm2dnB"
      },
      "execution_count": null,
      "outputs": []
    },
    {
      "cell_type": "code",
      "source": [
        "# Check PyTorch version\n",
        "torch.__version__"
      ],
      "metadata": {
        "id": "gO7qF2mmty_Z",
        "colab": {
          "base_uri": "https://localhost:8080/",
          "height": 36
        },
        "outputId": "1a9d67a7-9254-4897-81eb-da93cc3cc1c9"
      },
      "execution_count": null,
      "outputs": [
        {
          "output_type": "execute_result",
          "data": {
            "text/plain": [
              "'2.2.1+cu121'"
            ],
            "application/vnd.google.colaboratory.intrinsic+json": {
              "type": "string"
            }
          },
          "metadata": {},
          "execution_count": 2
        }
      ]
    },
    {
      "cell_type": "markdown",
      "source": [
        "### Downloading data"
      ],
      "metadata": {
        "id": "fg1mxKRnxKhw"
      }
    },
    {
      "cell_type": "code",
      "source": [
        "!wget -qq https://cdn.iisc.talentsprint.com/AIandMLOps/Datasets/data1.txt"
      ],
      "metadata": {
        "id": "MRrN_z1fwnQL"
      },
      "execution_count": null,
      "outputs": []
    },
    {
      "cell_type": "markdown",
      "source": [
        "#### Understanding and visualizing the data"
      ],
      "metadata": {
        "id": "GIj7Ftq8xQq5"
      }
    },
    {
      "cell_type": "code",
      "execution_count": null,
      "metadata": {
        "id": "_yj3RVXssJmc",
        "colab": {
          "base_uri": "https://localhost:8080/",
          "height": 206
        },
        "outputId": "a2db95b7-2049-4a36-cb3e-2832ef9d1479"
      },
      "outputs": [
        {
          "output_type": "execute_result",
          "data": {
            "text/plain": [
              "   Population   Profit\n",
              "0      6.1101  17.5920\n",
              "1      5.5277   9.1302\n",
              "2      8.5186  13.6620\n",
              "3      7.0032  11.8540\n",
              "4      5.8598   6.8233"
            ],
            "text/html": [
              "\n",
              "  <div id=\"df-0f9d4e22-1d73-43e4-a436-5701032256ce\" class=\"colab-df-container\">\n",
              "    <div>\n",
              "<style scoped>\n",
              "    .dataframe tbody tr th:only-of-type {\n",
              "        vertical-align: middle;\n",
              "    }\n",
              "\n",
              "    .dataframe tbody tr th {\n",
              "        vertical-align: top;\n",
              "    }\n",
              "\n",
              "    .dataframe thead th {\n",
              "        text-align: right;\n",
              "    }\n",
              "</style>\n",
              "<table border=\"1\" class=\"dataframe\">\n",
              "  <thead>\n",
              "    <tr style=\"text-align: right;\">\n",
              "      <th></th>\n",
              "      <th>Population</th>\n",
              "      <th>Profit</th>\n",
              "    </tr>\n",
              "  </thead>\n",
              "  <tbody>\n",
              "    <tr>\n",
              "      <th>0</th>\n",
              "      <td>6.1101</td>\n",
              "      <td>17.5920</td>\n",
              "    </tr>\n",
              "    <tr>\n",
              "      <th>1</th>\n",
              "      <td>5.5277</td>\n",
              "      <td>9.1302</td>\n",
              "    </tr>\n",
              "    <tr>\n",
              "      <th>2</th>\n",
              "      <td>8.5186</td>\n",
              "      <td>13.6620</td>\n",
              "    </tr>\n",
              "    <tr>\n",
              "      <th>3</th>\n",
              "      <td>7.0032</td>\n",
              "      <td>11.8540</td>\n",
              "    </tr>\n",
              "    <tr>\n",
              "      <th>4</th>\n",
              "      <td>5.8598</td>\n",
              "      <td>6.8233</td>\n",
              "    </tr>\n",
              "  </tbody>\n",
              "</table>\n",
              "</div>\n",
              "    <div class=\"colab-df-buttons\">\n",
              "\n",
              "  <div class=\"colab-df-container\">\n",
              "    <button class=\"colab-df-convert\" onclick=\"convertToInteractive('df-0f9d4e22-1d73-43e4-a436-5701032256ce')\"\n",
              "            title=\"Convert this dataframe to an interactive table.\"\n",
              "            style=\"display:none;\">\n",
              "\n",
              "  <svg xmlns=\"http://www.w3.org/2000/svg\" height=\"24px\" viewBox=\"0 -960 960 960\">\n",
              "    <path d=\"M120-120v-720h720v720H120Zm60-500h600v-160H180v160Zm220 220h160v-160H400v160Zm0 220h160v-160H400v160ZM180-400h160v-160H180v160Zm440 0h160v-160H620v160ZM180-180h160v-160H180v160Zm440 0h160v-160H620v160Z\"/>\n",
              "  </svg>\n",
              "    </button>\n",
              "\n",
              "  <style>\n",
              "    .colab-df-container {\n",
              "      display:flex;\n",
              "      gap: 12px;\n",
              "    }\n",
              "\n",
              "    .colab-df-convert {\n",
              "      background-color: #E8F0FE;\n",
              "      border: none;\n",
              "      border-radius: 50%;\n",
              "      cursor: pointer;\n",
              "      display: none;\n",
              "      fill: #1967D2;\n",
              "      height: 32px;\n",
              "      padding: 0 0 0 0;\n",
              "      width: 32px;\n",
              "    }\n",
              "\n",
              "    .colab-df-convert:hover {\n",
              "      background-color: #E2EBFA;\n",
              "      box-shadow: 0px 1px 2px rgba(60, 64, 67, 0.3), 0px 1px 3px 1px rgba(60, 64, 67, 0.15);\n",
              "      fill: #174EA6;\n",
              "    }\n",
              "\n",
              "    .colab-df-buttons div {\n",
              "      margin-bottom: 4px;\n",
              "    }\n",
              "\n",
              "    [theme=dark] .colab-df-convert {\n",
              "      background-color: #3B4455;\n",
              "      fill: #D2E3FC;\n",
              "    }\n",
              "\n",
              "    [theme=dark] .colab-df-convert:hover {\n",
              "      background-color: #434B5C;\n",
              "      box-shadow: 0px 1px 3px 1px rgba(0, 0, 0, 0.15);\n",
              "      filter: drop-shadow(0px 1px 2px rgba(0, 0, 0, 0.3));\n",
              "      fill: #FFFFFF;\n",
              "    }\n",
              "  </style>\n",
              "\n",
              "    <script>\n",
              "      const buttonEl =\n",
              "        document.querySelector('#df-0f9d4e22-1d73-43e4-a436-5701032256ce button.colab-df-convert');\n",
              "      buttonEl.style.display =\n",
              "        google.colab.kernel.accessAllowed ? 'block' : 'none';\n",
              "\n",
              "      async function convertToInteractive(key) {\n",
              "        const element = document.querySelector('#df-0f9d4e22-1d73-43e4-a436-5701032256ce');\n",
              "        const dataTable =\n",
              "          await google.colab.kernel.invokeFunction('convertToInteractive',\n",
              "                                                    [key], {});\n",
              "        if (!dataTable) return;\n",
              "\n",
              "        const docLinkHtml = 'Like what you see? Visit the ' +\n",
              "          '<a target=\"_blank\" href=https://colab.research.google.com/notebooks/data_table.ipynb>data table notebook</a>'\n",
              "          + ' to learn more about interactive tables.';\n",
              "        element.innerHTML = '';\n",
              "        dataTable['output_type'] = 'display_data';\n",
              "        await google.colab.output.renderOutput(dataTable, element);\n",
              "        const docLink = document.createElement('div');\n",
              "        docLink.innerHTML = docLinkHtml;\n",
              "        element.appendChild(docLink);\n",
              "      }\n",
              "    </script>\n",
              "  </div>\n",
              "\n",
              "\n",
              "<div id=\"df-b80600d4-1cda-4289-ac00-e8470ec141ea\">\n",
              "  <button class=\"colab-df-quickchart\" onclick=\"quickchart('df-b80600d4-1cda-4289-ac00-e8470ec141ea')\"\n",
              "            title=\"Suggest charts\"\n",
              "            style=\"display:none;\">\n",
              "\n",
              "<svg xmlns=\"http://www.w3.org/2000/svg\" height=\"24px\"viewBox=\"0 0 24 24\"\n",
              "     width=\"24px\">\n",
              "    <g>\n",
              "        <path d=\"M19 3H5c-1.1 0-2 .9-2 2v14c0 1.1.9 2 2 2h14c1.1 0 2-.9 2-2V5c0-1.1-.9-2-2-2zM9 17H7v-7h2v7zm4 0h-2V7h2v10zm4 0h-2v-4h2v4z\"/>\n",
              "    </g>\n",
              "</svg>\n",
              "  </button>\n",
              "\n",
              "<style>\n",
              "  .colab-df-quickchart {\n",
              "      --bg-color: #E8F0FE;\n",
              "      --fill-color: #1967D2;\n",
              "      --hover-bg-color: #E2EBFA;\n",
              "      --hover-fill-color: #174EA6;\n",
              "      --disabled-fill-color: #AAA;\n",
              "      --disabled-bg-color: #DDD;\n",
              "  }\n",
              "\n",
              "  [theme=dark] .colab-df-quickchart {\n",
              "      --bg-color: #3B4455;\n",
              "      --fill-color: #D2E3FC;\n",
              "      --hover-bg-color: #434B5C;\n",
              "      --hover-fill-color: #FFFFFF;\n",
              "      --disabled-bg-color: #3B4455;\n",
              "      --disabled-fill-color: #666;\n",
              "  }\n",
              "\n",
              "  .colab-df-quickchart {\n",
              "    background-color: var(--bg-color);\n",
              "    border: none;\n",
              "    border-radius: 50%;\n",
              "    cursor: pointer;\n",
              "    display: none;\n",
              "    fill: var(--fill-color);\n",
              "    height: 32px;\n",
              "    padding: 0;\n",
              "    width: 32px;\n",
              "  }\n",
              "\n",
              "  .colab-df-quickchart:hover {\n",
              "    background-color: var(--hover-bg-color);\n",
              "    box-shadow: 0 1px 2px rgba(60, 64, 67, 0.3), 0 1px 3px 1px rgba(60, 64, 67, 0.15);\n",
              "    fill: var(--button-hover-fill-color);\n",
              "  }\n",
              "\n",
              "  .colab-df-quickchart-complete:disabled,\n",
              "  .colab-df-quickchart-complete:disabled:hover {\n",
              "    background-color: var(--disabled-bg-color);\n",
              "    fill: var(--disabled-fill-color);\n",
              "    box-shadow: none;\n",
              "  }\n",
              "\n",
              "  .colab-df-spinner {\n",
              "    border: 2px solid var(--fill-color);\n",
              "    border-color: transparent;\n",
              "    border-bottom-color: var(--fill-color);\n",
              "    animation:\n",
              "      spin 1s steps(1) infinite;\n",
              "  }\n",
              "\n",
              "  @keyframes spin {\n",
              "    0% {\n",
              "      border-color: transparent;\n",
              "      border-bottom-color: var(--fill-color);\n",
              "      border-left-color: var(--fill-color);\n",
              "    }\n",
              "    20% {\n",
              "      border-color: transparent;\n",
              "      border-left-color: var(--fill-color);\n",
              "      border-top-color: var(--fill-color);\n",
              "    }\n",
              "    30% {\n",
              "      border-color: transparent;\n",
              "      border-left-color: var(--fill-color);\n",
              "      border-top-color: var(--fill-color);\n",
              "      border-right-color: var(--fill-color);\n",
              "    }\n",
              "    40% {\n",
              "      border-color: transparent;\n",
              "      border-right-color: var(--fill-color);\n",
              "      border-top-color: var(--fill-color);\n",
              "    }\n",
              "    60% {\n",
              "      border-color: transparent;\n",
              "      border-right-color: var(--fill-color);\n",
              "    }\n",
              "    80% {\n",
              "      border-color: transparent;\n",
              "      border-right-color: var(--fill-color);\n",
              "      border-bottom-color: var(--fill-color);\n",
              "    }\n",
              "    90% {\n",
              "      border-color: transparent;\n",
              "      border-bottom-color: var(--fill-color);\n",
              "    }\n",
              "  }\n",
              "</style>\n",
              "\n",
              "  <script>\n",
              "    async function quickchart(key) {\n",
              "      const quickchartButtonEl =\n",
              "        document.querySelector('#' + key + ' button');\n",
              "      quickchartButtonEl.disabled = true;  // To prevent multiple clicks.\n",
              "      quickchartButtonEl.classList.add('colab-df-spinner');\n",
              "      try {\n",
              "        const charts = await google.colab.kernel.invokeFunction(\n",
              "            'suggestCharts', [key], {});\n",
              "      } catch (error) {\n",
              "        console.error('Error during call to suggestCharts:', error);\n",
              "      }\n",
              "      quickchartButtonEl.classList.remove('colab-df-spinner');\n",
              "      quickchartButtonEl.classList.add('colab-df-quickchart-complete');\n",
              "    }\n",
              "    (() => {\n",
              "      let quickchartButtonEl =\n",
              "        document.querySelector('#df-b80600d4-1cda-4289-ac00-e8470ec141ea button');\n",
              "      quickchartButtonEl.style.display =\n",
              "        google.colab.kernel.accessAllowed ? 'block' : 'none';\n",
              "    })();\n",
              "  </script>\n",
              "</div>\n",
              "\n",
              "    </div>\n",
              "  </div>\n"
            ],
            "application/vnd.google.colaboratory.intrinsic+json": {
              "type": "dataframe",
              "variable_name": "df",
              "summary": "{\n  \"name\": \"df\",\n  \"rows\": 97,\n  \"fields\": [\n    {\n      \"column\": \"Population\",\n      \"properties\": {\n        \"dtype\": \"number\",\n        \"std\": 3.8698835278823314,\n        \"min\": 5.0269,\n        \"max\": 22.203,\n        \"num_unique_values\": 97,\n        \"samples\": [\n          21.279,\n          5.4069,\n          5.3054\n        ],\n        \"semantic_type\": \"\",\n        \"description\": \"\"\n      }\n    },\n    {\n      \"column\": \"Profit\",\n      \"properties\": {\n        \"dtype\": \"number\",\n        \"std\": 5.510262255231544,\n        \"min\": -2.6807,\n        \"max\": 24.147,\n        \"num_unique_values\": 97,\n        \"samples\": [\n          17.929,\n          0.55657,\n          1.9869\n        ],\n        \"semantic_type\": \"\",\n        \"description\": \"\"\n      }\n    }\n  ]\n}"
            }
          },
          "metadata": {},
          "execution_count": 4
        }
      ],
      "source": [
        "df=pd.read_csv('data1.txt',header=None)\n",
        "df.rename(columns={0:'Population',1:'Profit'},inplace=True)\n",
        "df.head()"
      ]
    },
    {
      "cell_type": "code",
      "source": [
        "plt.scatter(df.Population,df.Profit)\n",
        "plt.xlabel('Population of Area in 10,000')\n",
        "plt.ylabel('Profit of Appolo Pharmacy in 10,000')"
      ],
      "metadata": {
        "id": "bRWFMN5U2sZa",
        "colab": {
          "base_uri": "https://localhost:8080/",
          "height": 467
        },
        "outputId": "b552c387-f979-4127-8109-c10e5b94be78"
      },
      "execution_count": null,
      "outputs": [
        {
          "output_type": "execute_result",
          "data": {
            "text/plain": [
              "Text(0, 0.5, 'Profit of Appolo Pharmacy in 10,000')"
            ]
          },
          "metadata": {},
          "execution_count": 5
        },
        {
          "output_type": "display_data",
          "data": {
            "text/plain": [
              "<Figure size 640x480 with 1 Axes>"
            ],
            "image/png": "[encoded data removed]"
          },
          "metadata": {}
        }
      ]
    },
    {
      "cell_type": "code",
      "source": [
        "data,targets=  df.Population.values[:,np.newaxis],df.Profit.values[:,np.newaxis]"
      ],
      "metadata": {
        "id": "XFQCrYvz3K_e"
      },
      "execution_count": null,
      "outputs": []
    },
    {
      "cell_type": "markdown",
      "source": [
        "### Train-Test Split"
      ],
      "metadata": {
        "id": "XZ3bkdP64vJX"
      }
    },
    {
      "cell_type": "code",
      "source": [
        "train_data,test_data,train_targets,test_targets=train_test_split(data,targets)"
      ],
      "metadata": {
        "id": "3bucXaaX4ulr"
      },
      "execution_count": null,
      "outputs": []
    },
    {
      "cell_type": "code",
      "source": [
        "train_data.shape"
      ],
      "metadata": {
        "id": "ibAVe8QpBWCP",
        "colab": {
          "base_uri": "https://localhost:8080/"
        },
        "outputId": "27f21d83-af0b-4cda-8b4a-707ec4088c80"
      },
      "execution_count": null,
      "outputs": [
        {
          "output_type": "execute_result",
          "data": {
            "text/plain": [
              "(72, 1)"
            ]
          },
          "metadata": {},
          "execution_count": 8
        }
      ]
    },
    {
      "cell_type": "code",
      "source": [
        "test_data.shape"
      ],
      "metadata": {
        "id": "j5tFVw--AscJ",
        "colab": {
          "base_uri": "https://localhost:8080/"
        },
        "outputId": "00550240-ca24-4940-c5a5-5cee87db0f0a"
      },
      "execution_count": null,
      "outputs": [
        {
          "output_type": "execute_result",
          "data": {
            "text/plain": [
              "(25, 1)"
            ]
          },
          "metadata": {},
          "execution_count": 9
        }
      ]
    },
    {
      "cell_type": "markdown",
      "source": [
        "### Setting the GPU"
      ],
      "metadata": {
        "id": "nF0HA7n3xyOq"
      }
    },
    {
      "cell_type": "code",
      "source": [
        "# Linux bash command to print the status of nvidia gpu (memory and processes)\n",
        "!nvidia-smi"
      ],
      "metadata": {
        "id": "gXS0P74APfLX"
      },
      "execution_count": null,
      "outputs": []
    },
    {
      "cell_type": "code",
      "source": [
        "torch.cuda.is_available()"
      ],
      "metadata": {
        "id": "6a48LjF_PZ-N",
        "colab": {
          "base_uri": "https://localhost:8080/"
        },
        "outputId": "92f6d758-a537-43df-e0ac-24552d7cc596"
      },
      "execution_count": null,
      "outputs": [
        {
          "output_type": "execute_result",
          "data": {
            "text/plain": [
              "True"
            ]
          },
          "metadata": {},
          "execution_count": 11
        }
      ]
    },
    {
      "cell_type": "code",
      "source": [
        "device = torch.device(\"cuda\")"
      ],
      "metadata": {
        "id": "mZe91W1_POGl"
      },
      "execution_count": null,
      "outputs": []
    },
    {
      "cell_type": "markdown",
      "source": [
        "### **Class approach for Regression**"
      ],
      "metadata": {
        "id": "15IKisbzhN5l"
      }
    },
    {
      "cell_type": "code",
      "source": [
        "from torch import nn # nn contains all of PyTorch's building blocks for neural networks"
      ],
      "metadata": {
        "id": "b58v_lHitibX"
      },
      "execution_count": null,
      "outputs": []
    },
    {
      "cell_type": "code",
      "source": [
        "# Create a Linear Regression model class\n",
        "class LinearRegressionModel(nn.Module):# <- almost everything in PyTorch is a nn.Module\n",
        "  def __init__(self):\n",
        "    super().__init__()\n",
        "    self.weights = nn.Parameter(torch.randn(1, dtype=torch.float), requires_grad=True)\n",
        "    # <- start with random weights, get adjusted as the model learns, float32 by default, gradient tracking for GD updates)\n",
        "    self.bias = nn.Parameter(torch.randn(1,dtype=torch.float), requires_grad=True)\n",
        "\n",
        "  # Forward defines the computation in the model\n",
        "  def forward(self, x: torch.Tensor) -> torch.Tensor: # <- \"x\" is the input data (e.g. training/testing features)\n",
        "    return self.weights * x + self.bias # <- this is the linear regression formula (y = m*x + b)"
      ],
      "metadata": {
        "id": "bTIOHUqVGNo7"
      },
      "execution_count": null,
      "outputs": []
    },
    {
      "cell_type": "markdown",
      "source": [
        "Checking the contents of a PyTorch model:\n",
        "\n",
        "Let's create a model instance with the class we've made and check its parameters using .parameters().\n",
        "\n"
      ],
      "metadata": {
        "id": "HcYGephWu3yx"
      }
    },
    {
      "cell_type": "code",
      "source": [
        "# Set manual seed since nn.Parameter are randomly initialzied\n",
        "torch.manual_seed(42)\n",
        "\n",
        "# Create an instance of the model (this is a subclass of nn.Module that contains nn.Parameter(s))\n",
        "model_0 = LinearRegressionModel().to(device) ## Different from Tensorflow\n",
        "\n",
        "# Check the nn.Parameter(s) within the nn.Module subclass we created\n",
        "list(model_0.parameters())"
      ],
      "metadata": {
        "id": "PjQEARh4uaGW",
        "colab": {
          "base_uri": "https://localhost:8080/"
        },
        "outputId": "37357209-bfda-48c8-ca88-2c2cf05e7176"
      },
      "execution_count": null,
      "outputs": [
        {
          "output_type": "execute_result",
          "data": {
            "text/plain": [
              "[Parameter containing:\n",
              " tensor([0.3367], device='cuda:0', requires_grad=True),\n",
              " Parameter containing:\n",
              " tensor([0.1288], device='cuda:0', requires_grad=True)]"
            ]
          },
          "metadata": {},
          "execution_count": 15
        }
      ]
    },
    {
      "cell_type": "markdown",
      "source": [
        "We can also get the state (what the model contains) of the model using .state_dict()."
      ],
      "metadata": {
        "id": "oCDxbdAHu7-T"
      }
    },
    {
      "cell_type": "code",
      "source": [
        "# List named parameters\n",
        "model_0.state_dict()"
      ],
      "metadata": {
        "id": "rB9RPTvmu-tz",
        "colab": {
          "base_uri": "https://localhost:8080/"
        },
        "outputId": "20d2c200-2959-413e-8756-7aa0d7910c01"
      },
      "execution_count": null,
      "outputs": [
        {
          "output_type": "execute_result",
          "data": {
            "text/plain": [
              "OrderedDict([('weights', tensor([0.3367], device='cuda:0')),\n",
              "             ('bias', tensor([0.1288], device='cuda:0'))])"
            ]
          },
          "metadata": {},
          "execution_count": 16
        }
      ]
    },
    {
      "cell_type": "markdown",
      "source": [
        "Making predictions using torch.inference_mode()\n",
        "\n",
        "To check this we can pass it the test data X_test to see how closely it predicts y_test.\n",
        "\n",
        "When we pass data to our model, it'll go through the model's forward() method and produce a result using the computation we've defined.\n",
        "\n",
        "Let's make some predictions."
      ],
      "metadata": {
        "id": "qk2x6ZLEvXm9"
      }
    },
    {
      "cell_type": "code",
      "source": [
        "test_data[:,0]"
      ],
      "metadata": {
        "id": "AuNJTush6C59",
        "colab": {
          "base_uri": "https://localhost:8080/"
        },
        "outputId": "d16b26fb-8c5f-41fa-d80a-3f9113a83ace"
      },
      "execution_count": null,
      "outputs": [
        {
          "output_type": "execute_result",
          "data": {
            "text/plain": [
              "array([ 6.3589,  5.1793,  5.5416,  7.6031,  5.5649, 18.959 ,  5.8014,\n",
              "       11.708 ,  6.5894,  7.6366,  5.2524,  5.3794,  5.0269,  7.5402,\n",
              "       10.957 ,  5.4369, 22.203 ,  5.4069, 12.836 , 10.274 , 11.7   ,\n",
              "        8.4084, 20.27  ,  9.1802,  5.0594])"
            ]
          },
          "metadata": {},
          "execution_count": 17
        }
      ]
    },
    {
      "cell_type": "code",
      "source": [
        "# Make predictions with model\n",
        "with torch.inference_mode():\n",
        "    y_preds = model_0(torch.from_numpy(test_data).to(device)) ## different tensorflow\n"
      ],
      "metadata": {
        "id": "FVSgvd-Dx7zp"
      },
      "execution_count": null,
      "outputs": []
    },
    {
      "cell_type": "markdown",
      "source": [
        "* **torch.inference_mode()** : Turns off gradient tracking (necessary for training but not for inference) to make forward-passes (data going through the forward() method faster.\n",
        "\n",
        "* Note: In older PyTorch code, you may also see **torch.no_grad()** being used for inference. While torch.inference_mode() and torch.no_grad() do similar things,\n",
        "torch.inference_mode() is newer, potentially faster and preferred."
      ],
      "metadata": {
        "id": "JTBA-DQbyW3W"
      }
    },
    {
      "cell_type": "code",
      "source": [
        "# Check the predictions\n",
        "print(f\"Number of testing samples: {len(test_data)}\")\n",
        "print(f\"Number of predictions made: {len(y_preds)}\")\n",
        "print(f\"Predicted values:\\n{y_preds}\")"
      ],
      "metadata": {
        "id": "3P_q8FLJydDe",
        "colab": {
          "base_uri": "https://localhost:8080/"
        },
        "outputId": "d2291871-5178-4d1d-dcc6-33b6125346f2"
      },
      "execution_count": null,
      "outputs": [
        {
          "output_type": "stream",
          "name": "stdout",
          "text": [
            "Number of testing samples: 25\n",
            "Number of predictions made: 25\n",
            "Predicted values:\n",
            "tensor([[2.2698],\n",
            "        [1.8726],\n",
            "        [1.9946],\n",
            "        [2.6887],\n",
            "        [2.0025],\n",
            "        [6.5121],\n",
            "        [2.0821],\n",
            "        [4.0708],\n",
            "        [2.3474],\n",
            "        [2.7000],\n",
            "        [1.8972],\n",
            "        [1.9400],\n",
            "        [1.8213],\n",
            "        [2.6675],\n",
            "        [3.8179],\n",
            "        [1.9594],\n",
            "        [7.6043],\n",
            "        [1.9493],\n",
            "        [4.4506],\n",
            "        [3.5880],\n",
            "        [4.0681],\n",
            "        [2.9598],\n",
            "        [6.9535],\n",
            "        [3.2197],\n",
            "        [1.8323]], device='cuda:0', dtype=torch.float64)\n"
          ]
        }
      ]
    },
    {
      "cell_type": "markdown",
      "source": [
        "### **Train model**\n",
        "\n",
        "#### Defining loss function and optimizer"
      ],
      "metadata": {
        "id": "7qtbq0-r4W6H"
      }
    },
    {
      "cell_type": "code",
      "source": [
        "# Create the loss function\n",
        "loss_fn = nn.MSELoss().to(device) # MSE loss\n",
        "# Create the optimizer\n",
        "optimizer = torch.optim.SGD(params=model_0.parameters(), lr=0.01) # parameters of the model to optimize,  learning rate"
      ],
      "metadata": {
        "id": "U37JdO7J4wN5"
      },
      "execution_count": null,
      "outputs": []
    },
    {
      "cell_type": "markdown",
      "source": [
        "#### Train and Test loop"
      ],
      "metadata": {
        "id": "SL5F2HkR5Xde"
      }
    },
    {
      "cell_type": "code",
      "source": [
        "# Converting data into torch tensor and passing into GPU\n",
        "X_train=torch.from_numpy(train_data).to(device)\n",
        "y_train=torch.from_numpy(train_targets).to(device)\n",
        "X_test=torch.from_numpy(test_data).to(device)\n",
        "y_test=torch.from_numpy(test_targets).to(device)"
      ],
      "metadata": {
        "id": "LdabEkbJ9ltM"
      },
      "execution_count": null,
      "outputs": []
    },
    {
      "cell_type": "code",
      "source": [
        "torch.manual_seed(42)\n",
        "\n",
        "# Set the number of epochs (how many times the model will pass over the training data)\n",
        "epochs = 1000\n",
        "\n",
        "# Create empty loss lists to track values\n",
        "train_loss_values = []\n",
        "test_loss_values = []\n",
        "epoch_count = []\n",
        "\n",
        "for epoch in range(epochs):\n",
        "    ### Training\n",
        "\n",
        "    # Put model in training mode (this is the default state of a model)\n",
        "    model_0.train()\n",
        "\n",
        "    # 1. Forward pass on train data using the forward() method inside\n",
        "    y_pred = model_0(X_train)\n",
        "    # print(y_pred)\n",
        "\n",
        "    # 2. Calculate the loss (how different are our models predictions to the ground truth)\n",
        "    loss = loss_fn(y_pred, y_train)\n",
        "\n",
        "    # 3. Zero grad of the optimizer\n",
        "    optimizer.zero_grad()\n",
        "\n",
        "    # 4. Loss backwards\n",
        "    loss.backward()\n",
        "\n",
        "    # 5. Progress the optimizer\n",
        "    optimizer.step() ## Gradient descent eqn: w:=w-(alpha)*(dl/dw), b:=b-(alpha)*(dl/db)\n",
        "\n",
        "\n",
        "    ### Testing\n",
        "\n",
        "    # Put the model in evaluation mode\n",
        "    model_0.eval()\n",
        "\n",
        "    with torch.inference_mode():\n",
        "      # 1. Forward pass on test data\n",
        "      test_pred = model_0(X_test)\n",
        "\n",
        "      # 2. Caculate loss on test data\n",
        "      test_loss = loss_fn(test_pred, y_test.type(torch.float)) # predictions come in torch.float datatype, so comparisons need to be done with tensors of the same type\n",
        "\n",
        "      # Print out what's happening\n",
        "      if epoch % 10 == 0:\n",
        "            epoch_count.append(epoch)\n",
        "            train_loss_values.append(loss.detach().cpu().numpy())\n",
        "            test_loss_values.append(test_loss.detach().cpu().numpy())\n",
        "            print(f\"Epoch: {epoch} | MAE Train Loss: {loss} | MAE Test Loss: {test_loss} \")"
      ],
      "metadata": {
        "id": "QwH2sFGp5EzL",
        "colab": {
          "base_uri": "https://localhost:8080/"
        },
        "outputId": "17300937-406a-44e0-d610-341e4ea2af03"
      },
      "execution_count": null,
      "outputs": [
        {
          "output_type": "stream",
          "name": "stdout",
          "text": [
            "Epoch: 0 | MAE Train Loss: 27.38524815272073 | MAE Test Loss: 18.653759261541918 \n",
            "Epoch: 10 | MAE Train Loss: 11.737504353126331 | MAE Test Loss: 12.06131769393454 \n",
            "Epoch: 20 | MAE Train Loss: 11.633345477381043 | MAE Test Loss: 11.803733125951585 \n",
            "Epoch: 30 | MAE Train Loss: 11.535455314641032 | MAE Test Loss: 11.560170489842085 \n",
            "Epoch: 40 | MAE Train Loss: 11.443450735889607 | MAE Test Loss: 11.329057416297179 \n",
            "Epoch: 50 | MAE Train Loss: 11.35697786896375 | MAE Test Loss: 11.10971132404905 \n",
            "Epoch: 60 | MAE Train Loss: 11.275704115975307 | MAE Test Loss: 10.901489748622312 \n",
            "Epoch: 70 | MAE Train Loss: 11.19931691084865 | MAE Test Loss: 10.703786593701507 \n",
            "Epoch: 80 | MAE Train Loss: 11.127522404753545 | MAE Test Loss: 10.516030902589048 \n",
            "Epoch: 90 | MAE Train Loss: 11.06004452070882 | MAE Test Loss: 10.337683195468719 \n",
            "Epoch: 100 | MAE Train Loss: 10.996623696600935 | MAE Test Loss: 10.168235894949062 \n",
            "Epoch: 110 | MAE Train Loss: 10.937015905946186 | MAE Test Loss: 10.007209140903477 \n",
            "Epoch: 120 | MAE Train Loss: 10.880991982693137 | MAE Test Loss: 9.854150893623133 \n",
            "Epoch: 130 | MAE Train Loss: 10.828336460958687 | MAE Test Loss: 9.708634362040183 \n",
            "Epoch: 140 | MAE Train Loss: 10.778846870508632 | MAE Test Loss: 9.570256610121525 \n",
            "Epoch: 150 | MAE Train Loss: 10.732332938466358 | MAE Test Loss: 9.438637561929024 \n",
            "Epoch: 160 | MAE Train Loss: 10.68861561772616 | MAE Test Loss: 9.313419001400485 \n",
            "Epoch: 170 | MAE Train Loss: 10.647526646110647 | MAE Test Loss: 9.194260726950764 \n",
            "Epoch: 180 | MAE Train Loss: 10.608908178661709 | MAE Test Loss: 9.080845924297309 \n",
            "Epoch: 190 | MAE Train Loss: 10.572611499050165 | MAE Test Loss: 8.972869676239247 \n",
            "Epoch: 200 | MAE Train Loss: 10.53849725421101 | MAE Test Loss: 8.870048970999484 \n",
            "Epoch: 210 | MAE Train Loss: 10.506434063347301 | MAE Test Loss: 8.772114368796789 \n",
            "Epoch: 220 | MAE Train Loss: 10.476298569737732 | MAE Test Loss: 8.678810954643195 \n",
            "Epoch: 230 | MAE Train Loss: 10.447975026804865 | MAE Test Loss: 8.589899372797673 \n",
            "Epoch: 240 | MAE Train Loss: 10.421354370529743 | MAE Test Loss: 8.50515301551315 \n",
            "Epoch: 250 | MAE Train Loss: 10.39633421371217 | MAE Test Loss: 8.424356376813543 \n",
            "Epoch: 260 | MAE Train Loss: 10.372818468866745 | MAE Test Loss: 8.347308006175918 \n",
            "Epoch: 270 | MAE Train Loss: 10.350716625064752 | MAE Test Loss: 8.273815662264072 \n",
            "Epoch: 280 | MAE Train Loss: 10.329943633093864 | MAE Test Loss: 8.203698808487141 \n",
            "Epoch: 290 | MAE Train Loss: 10.310419531751661 | MAE Test Loss: 8.13678848950908 \n",
            "Epoch: 300 | MAE Train Loss: 10.292069301300064 | MAE Test Loss: 8.07291621642095 \n",
            "Epoch: 310 | MAE Train Loss: 10.27482240848459 | MAE Test Loss: 8.011937055022583 \n",
            "Epoch: 320 | MAE Train Loss: 10.258612383300253 | MAE Test Loss: 7.953702290092192 \n",
            "Epoch: 330 | MAE Train Loss: 10.243377020207419 | MAE Test Loss: 7.898074600391793 \n",
            "Epoch: 340 | MAE Train Loss: 10.229057733173928 | MAE Test Loss: 7.844924514126963 \n",
            "Epoch: 350 | MAE Train Loss: 10.21559937689485 | MAE Test Loss: 7.794131220277291 \n",
            "Epoch: 360 | MAE Train Loss: 10.202950201926278 | MAE Test Loss: 7.745577456893403 \n",
            "Epoch: 370 | MAE Train Loss: 10.19106145814314 | MAE Test Loss: 7.699153999361445 \n",
            "Epoch: 380 | MAE Train Loss: 10.17988760015232 | MAE Test Loss: 7.654756590344004 \n",
            "Epoch: 390 | MAE Train Loss: 10.169385587395498 | MAE Test Loss: 7.6122881438273025 \n",
            "Epoch: 400 | MAE Train Loss: 10.159515017716187 | MAE Test Loss: 7.571653440299403 \n",
            "Epoch: 410 | MAE Train Loss: 10.150237786892177 | MAE Test Loss: 7.532762356660513 \n",
            "Epoch: 420 | MAE Train Loss: 10.141518235419353 | MAE Test Loss: 7.495534042943663 \n",
            "Epoch: 430 | MAE Train Loss: 10.133323143642096 | MAE Test Loss: 7.459889909779881 \n",
            "Epoch: 440 | MAE Train Loss: 10.125620695858832 | MAE Test Loss: 7.42575441803915 \n",
            "Epoch: 450 | MAE Train Loss: 10.118381236608593 | MAE Test Loss: 7.393055106009097 \n",
            "Epoch: 460 | MAE Train Loss: 10.111577234113481 | MAE Test Loss: 7.361723397114087 \n",
            "Epoch: 470 | MAE Train Loss: 10.105182360750375 | MAE Test Loss: 7.331698395667274 \n",
            "Epoch: 480 | MAE Train Loss: 10.099171752937524 | MAE Test Loss: 7.302915726956944 \n",
            "Epoch: 490 | MAE Train Loss: 10.093522620155488 | MAE Test Loss: 7.275320444264302 \n",
            "Epoch: 500 | MAE Train Loss: 10.088213073911618 | MAE Test Loss: 7.248855479872681 \n",
            "Epoch: 510 | MAE Train Loss: 10.083222831359564 | MAE Test Loss: 7.223472146254622 \n",
            "Epoch: 520 | MAE Train Loss: 10.07853262352117 | MAE Test Loss: 7.199118837641582 \n",
            "Epoch: 530 | MAE Train Loss: 10.074124502493655 | MAE Test Loss: 7.175747811952285 \n",
            "Epoch: 540 | MAE Train Loss: 10.069981276573724 | MAE Test Loss: 7.153317871015436 \n",
            "Epoch: 550 | MAE Train Loss: 10.066087239348041 | MAE Test Loss: 7.1317846425805485 \n",
            "Epoch: 560 | MAE Train Loss: 10.062427279771713 | MAE Test Loss: 7.111107928300649 \n",
            "Epoch: 570 | MAE Train Loss: 10.058987402521286 | MAE Test Loss: 7.091248251981576 \n",
            "Epoch: 580 | MAE Train Loss: 10.055754305388353 | MAE Test Loss: 7.072173849178368 \n",
            "Epoch: 590 | MAE Train Loss: 10.052715645102076 | MAE Test Loss: 7.053845576686935 \n",
            "Epoch: 600 | MAE Train Loss: 10.049859727271661 | MAE Test Loss: 7.036233313104612 \n",
            "Epoch: 610 | MAE Train Loss: 10.047175518528364 | MAE Test Loss: 7.019304398626032 \n",
            "Epoch: 620 | MAE Train Loss: 10.044652607151868 | MAE Test Loss: 7.003030792204495 \n",
            "Epoch: 630 | MAE Train Loss: 10.042281468964179 | MAE Test Loss: 6.987380206991258 \n",
            "Epoch: 640 | MAE Train Loss: 10.040052833355421 | MAE Test Loss: 6.972330836534698 \n",
            "Epoch: 650 | MAE Train Loss: 10.037958192501353 | MAE Test Loss: 6.957855692784981 \n",
            "Epoch: 660 | MAE Train Loss: 10.035989527497549 | MAE Test Loss: 6.943930022699878 \n",
            "Epoch: 670 | MAE Train Loss: 10.034139208943236 | MAE Test Loss: 6.930529882871629 \n",
            "Epoch: 680 | MAE Train Loss: 10.03240010664778 | MAE Test Loss: 6.917631064106618 \n",
            "Epoch: 690 | MAE Train Loss: 10.030765623703784 | MAE Test Loss: 6.90521670298595 \n",
            "Epoch: 700 | MAE Train Loss: 10.029229418833475 | MAE Test Loss: 6.893266087635584 \n",
            "Epoch: 710 | MAE Train Loss: 10.027785545237927 | MAE Test Loss: 6.881757538873734 \n",
            "Epoch: 720 | MAE Train Loss: 10.026428487337398 | MAE Test Loss: 6.870675748506135 \n",
            "Epoch: 730 | MAE Train Loss: 10.025153018390466 | MAE Test Loss: 6.86000222963645 \n",
            "Epoch: 740 | MAE Train Loss: 10.023954237803078 | MAE Test Loss: 6.8497188418940915 \n",
            "Epoch: 750 | MAE Train Loss: 10.022827560862844 | MAE Test Loss: 6.839810024019758 \n",
            "Epoch: 760 | MAE Train Loss: 10.021768616461435 | MAE Test Loss: 6.830261487774728 \n",
            "Epoch: 770 | MAE Train Loss: 10.020773292397223 | MAE Test Loss: 6.82106007794485 \n",
            "Epoch: 780 | MAE Train Loss: 10.01983781021649 | MAE Test Loss: 6.812187410559289 \n",
            "Epoch: 790 | MAE Train Loss: 10.018958591163187 | MAE Test Loss: 6.803636925772192 \n",
            "Epoch: 800 | MAE Train Loss: 10.018132241641396 | MAE Test Loss: 6.795391610495008 \n",
            "Epoch: 810 | MAE Train Loss: 10.017355595485169 | MAE Test Loss: 6.787438637064769 \n",
            "Epoch: 820 | MAE Train Loss: 10.016625627305867 | MAE Test Loss: 6.779770651281744 \n",
            "Epoch: 830 | MAE Train Loss: 10.01593953896392 | MAE Test Loss: 6.77237219767976 \n",
            "Epoch: 840 | MAE Train Loss: 10.01529471468014 | MAE Test Loss: 6.765236282690672 \n",
            "Epoch: 850 | MAE Train Loss: 10.01468864060779 | MAE Test Loss: 6.758350980469515 \n",
            "Epoch: 860 | MAE Train Loss: 10.01411900894796 | MAE Test Loss: 6.751707256024034 \n",
            "Epoch: 870 | MAE Train Loss: 10.013583650851643 | MAE Test Loss: 6.745291793738668 \n",
            "Epoch: 880 | MAE Train Loss: 10.013080495366701 | MAE Test Loss: 6.739105319979065 \n",
            "Epoch: 890 | MAE Train Loss: 10.0126075786571 | MAE Test Loss: 6.733130228198152 \n",
            "Epoch: 900 | MAE Train Loss: 10.012163078264097 | MAE Test Loss: 6.727362943629568 \n",
            "Epoch: 910 | MAE Train Loss: 10.011745327426441 | MAE Test Loss: 6.721793521642475 \n",
            "Epoch: 920 | MAE Train Loss: 10.011352656506103 | MAE Test Loss: 6.716413299758951 \n",
            "Epoch: 930 | MAE Train Loss: 10.010983605046441 | MAE Test Loss: 6.711221125175896 \n",
            "Epoch: 940 | MAE Train Loss: 10.010636742707181 | MAE Test Loss: 6.706206055590144 \n",
            "Epoch: 950 | MAE Train Loss: 10.010310744518398 | MAE Test Loss: 6.701360116330358 \n",
            "Epoch: 960 | MAE Train Loss: 10.010004353798879 | MAE Test Loss: 6.696678757868076 \n",
            "Epoch: 970 | MAE Train Loss: 10.009716382040068 | MAE Test Loss: 6.692156611383215 \n",
            "Epoch: 980 | MAE Train Loss: 10.009445715934415 | MAE Test Loss: 6.687789131771232 \n",
            "Epoch: 990 | MAE Train Loss: 10.009191314055533 | MAE Test Loss: 6.683568074360792 \n"
          ]
        }
      ]
    },
    {
      "cell_type": "code",
      "source": [
        "# Plot the loss curves\n",
        "plt.plot(epoch_count, train_loss_values, label=\"Train loss\")\n",
        "plt.plot(epoch_count, test_loss_values, label=\"Test loss\")\n",
        "plt.title(\"Training and test loss curves\")\n",
        "plt.ylabel(\"Loss\")\n",
        "plt.xlabel(\"Epochs\")\n",
        "plt.legend();"
      ],
      "metadata": {
        "id": "RE1tz6VI_TSX",
        "colab": {
          "base_uri": "https://localhost:8080/",
          "height": 472
        },
        "outputId": "5c00e63e-ba52-4a81-dfbe-d46e07493f9c"
      },
      "execution_count": null,
      "outputs": [
        {
          "output_type": "display_data",
          "data": {
            "text/plain": [
              "<Figure size 640x480 with 1 Axes>"
            ],
            "image/png": "[encoded data removed]"
          },
          "metadata": {}
        }
      ]
    },
    {
      "cell_type": "code",
      "source": [
        "# Find our model's learned parameters\n",
        "print(\"The model learned the following values for weights and bias:\")\n",
        "print(model_0.state_dict())"
      ],
      "metadata": {
        "colab": {
          "base_uri": "https://localhost:8080/"
        },
        "id": "vIm-ncUA_cUX",
        "outputId": "287f1ff6-4611-4782-fda9-4e41b039101d"
      },
      "execution_count": null,
      "outputs": [
        {
          "output_type": "stream",
          "name": "stdout",
          "text": [
            "The model learned the following values for weights and bias:\n",
            "OrderedDict([('weights', tensor([1.1447], device='cuda:0')), ('bias', tensor([-3.0987], device='cuda:0'))])\n"
          ]
        }
      ]
    },
    {
      "cell_type": "markdown",
      "source": [
        "4. Making predictions with a trained PyTorch model (inference)"
      ],
      "metadata": {
        "id": "rdEzYvLkluu5"
      }
    },
    {
      "cell_type": "code",
      "source": [
        "X_train=torch.from_numpy(train_data).to(device)\n",
        "y_train=torch.from_numpy(train_targets).to(device)\n",
        "X_test=torch.from_numpy(test_data).to(device)\n",
        "y_test=torch.from_numpy(test_targets).to(device)"
      ],
      "metadata": {
        "id": "dPITGXi1_9H8"
      },
      "execution_count": null,
      "outputs": []
    },
    {
      "cell_type": "code",
      "source": [
        "# 1. Set the model in evaluation mode\n",
        "model_0.eval()\n",
        "# 2. Setup the inference mode context manager\n",
        "with torch.inference_mode():\n",
        "  model_0.to(device)\n",
        "  y_preds = model_0(X_train)"
      ],
      "metadata": {
        "id": "YjY1mdoclvay"
      },
      "execution_count": null,
      "outputs": []
    },
    {
      "cell_type": "code",
      "source": [
        "plt.figure(figsize=(12,8))\n",
        "plt.scatter(df.Population,df.Profit)\n",
        "plt.xlabel('Population of Area in 10,000')\n",
        "plt.ylabel('Profit of Appolo Pharmacy in 10,000')\n",
        "plt.plot(train_data,y_preds.cpu(),'r-')"
      ],
      "metadata": {
        "id": "49HHQZsYrcm_",
        "colab": {
          "base_uri": "https://localhost:8080/",
          "height": 714
        },
        "outputId": "3ef4bdda-1164-4b39-d8b6-2cc0dd66e61d"
      },
      "execution_count": null,
      "outputs": [
        {
          "output_type": "execute_result",
          "data": {
            "text/plain": [
              "[<matplotlib.lines.Line2D at 0x7daf7d930ee0>]"
            ]
          },
          "metadata": {},
          "execution_count": 27
        },
        {
          "output_type": "display_data",
          "data": {
            "text/plain": [
              "<Figure size 1200x800 with 1 Axes>"
            ],
            "image/png": "[encoded data removed]"
          },
          "metadata": {}
        }
      ]
    },
    {
      "cell_type": "markdown",
      "source": [
        "### CustomDataset class and Batch Processing"
      ],
      "metadata": {
        "id": "POUbW-1u0IOx"
      }
    },
    {
      "cell_type": "markdown",
      "source": [
        "### Defining Data_Class called 'CustomDataset' for building our own custom dataset compatible with dataloader."
      ],
      "metadata": {
        "id": "LVv5afux1jvj"
      }
    },
    {
      "cell_type": "code",
      "source": [
        "alist=[1,2,3,4,5,6,7,8,9]\n",
        "print(alist)\n",
        "len(alist)"
      ],
      "metadata": {
        "colab": {
          "base_uri": "https://localhost:8080/"
        },
        "id": "8vNBQHKOolwQ",
        "outputId": "03e855ca-db8c-4a88-9df7-aadec09d9153"
      },
      "execution_count": null,
      "outputs": [
        {
          "output_type": "stream",
          "name": "stdout",
          "text": [
            "[1, 2, 3, 4, 5, 6, 7, 8, 9]\n"
          ]
        },
        {
          "output_type": "execute_result",
          "data": {
            "text/plain": [
              "9"
            ]
          },
          "metadata": {},
          "execution_count": 28
        }
      ]
    },
    {
      "cell_type": "code",
      "source": [
        "alist[2:4] # slicing operation [ ]"
      ],
      "metadata": {
        "colab": {
          "base_uri": "https://localhost:8080/"
        },
        "id": "om1d29rrouSu",
        "outputId": "be0f82ff-a9ca-4cdc-f75a-e95e77c442e6"
      },
      "execution_count": null,
      "outputs": [
        {
          "output_type": "execute_result",
          "data": {
            "text/plain": [
              "[3, 4]"
            ]
          },
          "metadata": {},
          "execution_count": 30
        }
      ]
    },
    {
      "cell_type": "code",
      "source": [
        "alist[3]"
      ],
      "metadata": {
        "colab": {
          "base_uri": "https://localhost:8080/"
        },
        "id": "Wpklq4MTo75y",
        "outputId": "91fbc837-cafa-454a-9295-4b7a25b6032d"
      },
      "execution_count": null,
      "outputs": [
        {
          "output_type": "execute_result",
          "data": {
            "text/plain": [
              "4"
            ]
          },
          "metadata": {},
          "execution_count": 31
        }
      ]
    },
    {
      "cell_type": "code",
      "source": [
        "class CustomDataset:\n",
        "\n",
        "  def __init__(self,data,targets):\n",
        "    self.data=data\n",
        "    self.targets=targets\n",
        "\n",
        "  def __len__(self):\n",
        "     return self.data.shape[0] #len(self.data)\n",
        "\n",
        "  def __getitem__(self,idx):\n",
        "    sliced_sample=self.data[idx,:]\n",
        "    sliced_target=self.targets[idx]\n",
        "    return {\"sample\" :torch.tensor(sliced_sample, dtype=torch.float),\n",
        "            \"target\" : torch.tensor(sliced_target, dtype=torch.float)\n",
        "            }"
      ],
      "metadata": {
        "id": "kIYDn9Dh-WEN"
      },
      "execution_count": null,
      "outputs": []
    },
    {
      "cell_type": "markdown",
      "source": [
        "### Testing of Above Data Class"
      ],
      "metadata": {
        "id": "AUxMCCqbCU4M"
      }
    },
    {
      "cell_type": "code",
      "source": [
        "df.Population.values[:,np.newaxis]"
      ],
      "metadata": {
        "id": "CSB1Je7rqIu-"
      },
      "execution_count": null,
      "outputs": []
    },
    {
      "cell_type": "code",
      "source": [
        "data,targets=  df.Population.values[:,np.newaxis],df.Profit.values[:,np.newaxis]"
      ],
      "metadata": {
        "id": "rXwTIDI_6HfV"
      },
      "execution_count": null,
      "outputs": []
    },
    {
      "cell_type": "code",
      "source": [
        "data.shape"
      ],
      "metadata": {
        "colab": {
          "base_uri": "https://localhost:8080/"
        },
        "id": "O7TJydBUqXRz",
        "outputId": "20996b0c-6df0-4647-f293-30c67a026c40"
      },
      "execution_count": null,
      "outputs": [
        {
          "output_type": "execute_result",
          "data": {
            "text/plain": [
              "(97, 1)"
            ]
          },
          "metadata": {},
          "execution_count": 44
        }
      ]
    },
    {
      "cell_type": "code",
      "source": [
        "data[0]"
      ],
      "metadata": {
        "id": "GscKr_jTzgxp",
        "colab": {
          "base_uri": "https://localhost:8080/"
        },
        "outputId": "27fa2ea1-1f33-4698-c633-cc12e5663c94"
      },
      "execution_count": null,
      "outputs": [
        {
          "output_type": "execute_result",
          "data": {
            "text/plain": [
              "array([6.1101])"
            ]
          },
          "metadata": {},
          "execution_count": 38
        }
      ]
    },
    {
      "cell_type": "code",
      "source": [
        "targets[0]"
      ],
      "metadata": {
        "id": "t-qnrr4Hyjnl",
        "colab": {
          "base_uri": "https://localhost:8080/"
        },
        "outputId": "0a740fea-e864-4e51-a82b-b9a9f8802c9a"
      },
      "execution_count": null,
      "outputs": [
        {
          "output_type": "execute_result",
          "data": {
            "text/plain": [
              "array([17.592])"
            ]
          },
          "metadata": {},
          "execution_count": 41
        }
      ]
    },
    {
      "cell_type": "code",
      "source": [
        "custom_dataset  = CustomDataset (data=data, targets=targets)"
      ],
      "metadata": {
        "id": "JsjuyCxbBFQe"
      },
      "execution_count": null,
      "outputs": []
    },
    {
      "cell_type": "code",
      "source": [
        "len(custom_dataset)"
      ],
      "metadata": {
        "id": "CQh1Eo6NBUId"
      },
      "execution_count": null,
      "outputs": []
    },
    {
      "cell_type": "code",
      "source": [
        "custom_dataset[0]"
      ],
      "metadata": {
        "colab": {
          "base_uri": "https://localhost:8080/"
        },
        "id": "04wOVT_HrFHv",
        "outputId": "e6f942e6-d2e6-48ee-9d50-2ce5a51e3174"
      },
      "execution_count": null,
      "outputs": [
        {
          "output_type": "execute_result",
          "data": {
            "text/plain": [
              "{'sample': tensor([6.1101]), 'target': tensor([17.5920])}"
            ]
          },
          "metadata": {},
          "execution_count": 46
        }
      ]
    },
    {
      "cell_type": "code",
      "source": [
        "custom_dataset[[0,1,2]]"
      ],
      "metadata": {
        "id": "-edVNmPRBeUC",
        "colab": {
          "base_uri": "https://localhost:8080/"
        },
        "outputId": "5e569322-e51f-4fbb-c052-ba92f69d1e28"
      },
      "execution_count": null,
      "outputs": [
        {
          "output_type": "execute_result",
          "data": {
            "text/plain": [
              "{'sample': tensor([[6.1101],\n",
              "         [5.5277],\n",
              "         [8.5186]]),\n",
              " 'target': tensor([[17.5920],\n",
              "         [ 9.1302],\n",
              "         [13.6620]])}"
            ]
          },
          "metadata": {},
          "execution_count": 47
        }
      ]
    },
    {
      "cell_type": "code",
      "source": [
        "custom_dataset[0]['sample'].shape"
      ],
      "metadata": {
        "id": "5dxd8WPnCXDB"
      },
      "execution_count": null,
      "outputs": []
    },
    {
      "cell_type": "code",
      "source": [
        "custom_dataset[0]['target']"
      ],
      "metadata": {
        "id": "u9dGBVwXCiyZ"
      },
      "execution_count": null,
      "outputs": []
    },
    {
      "cell_type": "code",
      "source": [
        "for idx in range(len(custom_dataset)):\n",
        "  print(custom_dataset[idx])\n",
        "  if idx >5:\n",
        "    break"
      ],
      "metadata": {
        "id": "fF_q7y5J4hIZ",
        "colab": {
          "base_uri": "https://localhost:8080/"
        },
        "outputId": "246107a7-1329-493d-cfa8-d62dbaf3de94"
      },
      "execution_count": null,
      "outputs": [
        {
          "output_type": "stream",
          "name": "stdout",
          "text": [
            "{'sample': tensor([6.1101]), 'target': tensor([17.5920])}\n",
            "{'sample': tensor([5.5277]), 'target': tensor([9.1302])}\n",
            "{'sample': tensor([8.5186]), 'target': tensor([13.6620])}\n",
            "{'sample': tensor([7.0032]), 'target': tensor([11.8540])}\n",
            "{'sample': tensor([5.8598]), 'target': tensor([6.8233])}\n",
            "{'sample': tensor([8.3829]), 'target': tensor([11.8860])}\n",
            "{'sample': tensor([7.4764]), 'target': tensor([4.3483])}\n"
          ]
        }
      ]
    },
    {
      "cell_type": "markdown",
      "source": [
        "### Train-Test Split"
      ],
      "metadata": {
        "id": "4uwm78VU00Uf"
      }
    },
    {
      "cell_type": "code",
      "source": [
        "train_data,test_data,train_targets,test_targets=train_test_split(data,targets)"
      ],
      "metadata": {
        "id": "BUzgI2ON00Uf"
      },
      "execution_count": null,
      "outputs": []
    },
    {
      "cell_type": "code",
      "source": [
        "train_data.shape"
      ],
      "metadata": {
        "colab": {
          "base_uri": "https://localhost:8080/"
        },
        "outputId": "f00b7a52-6ef2-4b44-96df-01a11f69b861",
        "id": "hilLbXnf00Uf"
      },
      "execution_count": null,
      "outputs": [
        {
          "output_type": "execute_result",
          "data": {
            "text/plain": [
              "(72, 1)"
            ]
          },
          "metadata": {},
          "execution_count": 50
        }
      ]
    },
    {
      "cell_type": "code",
      "source": [
        "test_data.shape"
      ],
      "metadata": {
        "id": "FkpU3n4g00Ug",
        "colab": {
          "base_uri": "https://localhost:8080/"
        },
        "outputId": "8f066bb7-f602-4e2f-e939-55c27f60cfb4"
      },
      "execution_count": null,
      "outputs": [
        {
          "output_type": "execute_result",
          "data": {
            "text/plain": [
              "(25, 1)"
            ]
          },
          "metadata": {},
          "execution_count": 51
        }
      ]
    },
    {
      "cell_type": "markdown",
      "source": [
        "### Making train and test data by using CustomDataset class"
      ],
      "metadata": {
        "id": "LkEzDc74AQcp"
      }
    },
    {
      "cell_type": "code",
      "source": [
        "train_dataset = CustomDataset(train_data,train_targets)\n",
        "\n",
        "test_dataset = CustomDataset(test_data,test_targets)"
      ],
      "metadata": {
        "id": "tNrKL8yr5ayZ"
      },
      "execution_count": null,
      "outputs": []
    },
    {
      "cell_type": "markdown",
      "source": [
        "### Data Loader\n",
        "\n",
        "We will use same data class and dataset created previously ."
      ],
      "metadata": {
        "id": "g7bQ8gT25iIU"
      }
    },
    {
      "cell_type": "code",
      "source": [
        "train_loader = torch.utils.data.DataLoader(train_dataset,batch_size=12,num_workers=2)\n",
        "\n",
        "test_loader = torch.utils.data.DataLoader(test_dataset,batch_size=25,num_workers=2)"
      ],
      "metadata": {
        "id": "0KYi7-5D4_X1"
      },
      "execution_count": null,
      "outputs": []
    },
    {
      "cell_type": "code",
      "source": [
        "train_loader"
      ],
      "metadata": {
        "colab": {
          "base_uri": "https://localhost:8080/"
        },
        "id": "UTb6MzR47E-9",
        "outputId": "c57092a1-ea05-427a-c6f4-a7e91e4fa1c4"
      },
      "execution_count": null,
      "outputs": [
        {
          "output_type": "execute_result",
          "data": {
            "text/plain": [
              "<torch.utils.data.dataloader.DataLoader at 0x7b75967679a0>"
            ]
          },
          "metadata": {},
          "execution_count": 106
        }
      ]
    },
    {
      "cell_type": "code",
      "source": [
        "for data in train_loader:\n",
        "  print(data[\"sample\"].shape)\n",
        "  print(data[\"target\"].shape)\n",
        "  print(data)"
      ],
      "metadata": {
        "id": "w9_9H59a7X7m"
      },
      "execution_count": null,
      "outputs": []
    },
    {
      "cell_type": "markdown",
      "source": [
        "### **Model**"
      ],
      "metadata": {
        "id": "zGYK46jt00Uh"
      }
    },
    {
      "cell_type": "code",
      "source": [
        "# Create a Linear Regression model class\n",
        "class LinearRegressionModel(nn.Module):# <- almost everything in PyTorch is a nn.Module\n",
        "  def __init__(self):\n",
        "    super().__init__()\n",
        "    self.weights = nn.Parameter(torch.randn(1, dtype=torch.float), requires_grad=True)\n",
        "    # <- start with random weights, get adjusted as the model learns, float32 by default, gradient tracking for GD updates)\n",
        "    self.bias = nn.Parameter(torch.randn(1,dtype=torch.float), requires_grad=True)\n",
        "\n",
        "  # Forward defines the computation in the model\n",
        "  def forward(self, x: torch.Tensor) -> torch.Tensor: # <- \"x\" is the input data (e.g. training/testing features)\n",
        "    return self.weights * x + self.bias # <- this is the linear regression formula (y = m*x + b)"
      ],
      "metadata": {
        "id": "AXX9r4PW00Ui"
      },
      "execution_count": null,
      "outputs": []
    },
    {
      "cell_type": "markdown",
      "source": [
        "Checking the contents of a PyTorch model:\n",
        "\n",
        "Let's create a model instance with the class we've made and check its parameters using .parameters().\n",
        "\n"
      ],
      "metadata": {
        "id": "i4p_Yvjv00Ui"
      }
    },
    {
      "cell_type": "code",
      "source": [
        "# Set manual seed since nn.Parameter are randomly initialzied\n",
        "torch.manual_seed(42)\n",
        "\n",
        "# Create an instance of the model (this is a subclass of nn.Module that contains nn.Parameter(s))\n",
        "model_1 = LinearRegressionModel().to(device)\n",
        "\n",
        "# Check the nn.Parameter(s) within the nn.Module subclass we created\n",
        "list(model_1.parameters())"
      ],
      "metadata": {
        "id": "Gx13xTa000Ui",
        "colab": {
          "base_uri": "https://localhost:8080/"
        },
        "outputId": "7328377a-54dc-47d2-95b8-eea04fd16106"
      },
      "execution_count": null,
      "outputs": [
        {
          "output_type": "execute_result",
          "data": {
            "text/plain": [
              "[Parameter containing:\n",
              " tensor([0.3367], device='cuda:0', requires_grad=True),\n",
              " Parameter containing:\n",
              " tensor([0.1288], device='cuda:0', requires_grad=True)]"
            ]
          },
          "metadata": {},
          "execution_count": 57
        }
      ]
    },
    {
      "cell_type": "markdown",
      "source": [
        "We can also get the state (what the model contains) of the model using .state_dict()."
      ],
      "metadata": {
        "id": "5ny_o4p800Ui"
      }
    },
    {
      "cell_type": "code",
      "source": [
        "# List named parameters\n",
        "model_1.state_dict()"
      ],
      "metadata": {
        "id": "P2uP8_rP00Ui",
        "colab": {
          "base_uri": "https://localhost:8080/"
        },
        "outputId": "e434f506-7cbf-4d3f-c102-920d251b5e0a"
      },
      "execution_count": null,
      "outputs": [
        {
          "output_type": "execute_result",
          "data": {
            "text/plain": [
              "OrderedDict([('weights', tensor([0.3367], device='cuda:0')),\n",
              "             ('bias', tensor([0.1288], device='cuda:0'))])"
            ]
          },
          "metadata": {},
          "execution_count": 58
        }
      ]
    },
    {
      "cell_type": "markdown",
      "source": [
        "Making predictions using torch.inference_mode()\n",
        "\n",
        "To check this we can pass it the test data X_test to see how closely it predicts y_test.\n",
        "\n",
        "When we pass data to our model, it'll go through the model's forward() method and produce a result using the computation we've defined.\n",
        "\n",
        "Let's make some predictions."
      ],
      "metadata": {
        "id": "HYaaYc8K00Uj"
      }
    },
    {
      "cell_type": "code",
      "source": [
        "xtest=[data['sample'] for data in test_loader]"
      ],
      "metadata": {
        "id": "74RYQElx2x-y"
      },
      "execution_count": null,
      "outputs": []
    },
    {
      "cell_type": "code",
      "source": [
        "xtest"
      ],
      "metadata": {
        "id": "j0x3RJuN281y"
      },
      "execution_count": null,
      "outputs": []
    },
    {
      "cell_type": "code",
      "source": [
        "# Make predictions with model\n",
        "with torch.inference_mode():\n",
        "    y_preds = model_1(xtest[0].to(device))\n",
        "\n",
        "# Note: in older PyTorch code you might also see torch.no_grad()\n",
        "# with torch.no_grad():\n",
        "#   y_preds = model_1(xtest)"
      ],
      "metadata": {
        "id": "6UESRm6H00Uj"
      },
      "execution_count": null,
      "outputs": []
    },
    {
      "cell_type": "markdown",
      "source": [
        "* **torch.inference_mode()** : Turns off gradient tracking (necessary for training but not for inference) to make forward-passes (data going through the forward() method faster.\n",
        "\n",
        "* Note: In older PyTorch code, you may also see **torch.no_grad()** being used for inference. While torch.inference_mode() and torch.no_grad() do similar things,\n",
        "torch.inference_mode() is newer, potentially faster and preferred."
      ],
      "metadata": {
        "id": "x3zTSq7Q00Uj"
      }
    },
    {
      "cell_type": "code",
      "source": [
        "# Check the predictions\n",
        "print(f\"Number of testing samples: {len(xtest[0])}\")\n",
        "print(f\"Number of predictions made: {len(y_preds)}\")\n",
        "print(f\"Predicted values:\\n{y_preds}\")"
      ],
      "metadata": {
        "id": "mfnORp8p00Uj",
        "colab": {
          "base_uri": "https://localhost:8080/"
        },
        "outputId": "8e4c53bf-2389-4ea5-8d51-fb16daf00c1a"
      },
      "execution_count": null,
      "outputs": [
        {
          "output_type": "stream",
          "name": "stdout",
          "text": [
            "Number of testing samples: 25\n",
            "Number of predictions made: 25\n",
            "Predicted values:\n",
            "tensor([[2.1125],\n",
            "        [6.5121],\n",
            "        [2.7000],\n",
            "        [2.1054],\n",
            "        [2.4461],\n",
            "        [1.8359],\n",
            "        [3.2197],\n",
            "        [2.2936],\n",
            "        [1.9773],\n",
            "        [2.2413],\n",
            "        [3.5880],\n",
            "        [2.2610],\n",
            "        [2.6284],\n",
            "        [6.9535],\n",
            "        [2.3127],\n",
            "        [3.0170],\n",
            "        [1.8246],\n",
            "        [1.8323],\n",
            "        [4.0681],\n",
            "        [2.1496],\n",
            "        [2.5170],\n",
            "        [3.1002],\n",
            "        [2.2587],\n",
            "        [2.6460],\n",
            "        [3.5415]], device='cuda:0')\n"
          ]
        }
      ]
    },
    {
      "cell_type": "markdown",
      "source": [
        "### **Train model**\n",
        "\n",
        "#### Defining loss function and optimizer"
      ],
      "metadata": {
        "id": "pgRHklah00Uj"
      }
    },
    {
      "cell_type": "code",
      "source": [
        "# Create the loss function\n",
        "loss_fn = nn.MSELoss().to(device) # MSE loss\n",
        "# Create the optimizer\n",
        "optimizer = torch.optim.SGD(params=model_1.parameters(), lr=0.01) # parameters of the model to optimize,  learning rate"
      ],
      "metadata": {
        "id": "pzoWq_Fe00Uj"
      },
      "execution_count": null,
      "outputs": []
    },
    {
      "cell_type": "markdown",
      "source": [
        "#### Train and Test loop"
      ],
      "metadata": {
        "id": "uTdG6Knx00Uj"
      }
    },
    {
      "cell_type": "code",
      "source": [
        "torch.manual_seed(42)\n",
        "\n",
        "# Set the number of epochs (how many times the model will pass over the training data)\n",
        "epochs = 300\n",
        "\n",
        "# Create empty loss lists to track values\n",
        "train_loss_values = []\n",
        "test_loss_values = []\n",
        "epoch_count = []\n",
        "\n",
        "for epoch in range(epochs):\n",
        "    ### Training\n",
        "\n",
        "    # Put model in training mode (this is the default state of a model)\n",
        "    model_1.train()\n",
        "\n",
        "    # 1. Forward pass on train data using the forward() method inside\n",
        "    for batch_idx, data in enumerate(train_loader):\n",
        "      xtrain, ytrain = data[\"sample\"].to(device), data[\"target\"].to(device)\n",
        "      y_pred = model_1(xtrain)\n",
        "      # print(y_pred)\n",
        "      # 2. Calculate the loss (how different are our models predictions to the ground truth)\n",
        "      loss = loss_fn(y_pred, ytrain)\n",
        "      loss=loss+loss.item()\n",
        "      # 3. Zero grad of the optimizer\n",
        "      optimizer.zero_grad()\n",
        "      # 4. Loss backwards\n",
        "      loss.backward()\n",
        "      # 5. Progress the optimizer\n",
        "      optimizer.step()\n",
        "\n",
        "      ### Testing\n",
        "\n",
        "      # Put the model in evaluation mode\n",
        "      model_1.eval()\n",
        "\n",
        "      with torch.inference_mode():\n",
        "        # 1. Forward pass on test data\n",
        "        for batch_idx, data in enumerate(test_loader):\n",
        "          xtest, ytest = data[\"sample\"].to(device), data[\"target\"].to(device)\n",
        "          test_pred = model_1(xtest)\n",
        "\n",
        "          # 2. Caculate loss on test data\n",
        "          test_loss = loss_fn(test_pred, ytest.type(torch.float)) # predictions come in torch.float datatype, so comparisons need to be done with tensors of the same type\n",
        "          test_loss=test_loss+test_loss.item()\n",
        "        test_loss=test_loss/len(test_loader)\n",
        "    loss=loss/len(train_loader)\n",
        "    # Print out what's happening\n",
        "    if epoch % 10 == 0:\n",
        "          epoch_count.append(epoch)\n",
        "          train_loss_values.append(loss.detach().cpu().numpy())\n",
        "          test_loss_values.append(test_loss.detach().cpu().numpy())\n",
        "          print(f\"Epoch: {epoch} | Train Loss: {loss} | Test Loss: {test_loss} \")"
      ],
      "metadata": {
        "id": "_x34M1qr00Uj",
        "colab": {
          "base_uri": "https://localhost:8080/"
        },
        "outputId": "c9686bce-2813-4cf1-e1db-bdd69b7d8381"
      },
      "execution_count": null,
      "outputs": [
        {
          "output_type": "stream",
          "name": "stdout",
          "text": [
            "Epoch: 0 | Train Loss: 5.2134833335876465 | Test Loss: 14.52547550201416 \n",
            "Epoch: 10 | Train Loss: 4.578910827636719 | Test Loss: 12.60631275177002 \n",
            "Epoch: 20 | Train Loss: 4.043347358703613 | Test Loss: 11.2243013381958 \n",
            "Epoch: 30 | Train Loss: 3.71992564201355 | Test Loss: 10.500580787658691 \n",
            "Epoch: 40 | Train Loss: 3.523608684539795 | Test Loss: 10.145025253295898 \n",
            "Epoch: 50 | Train Loss: 3.403686046600342 | Test Loss: 9.990763664245605 \n",
            "Epoch: 60 | Train Loss: 3.3298587799072266 | Test Loss: 9.94279670715332 \n",
            "Epoch: 70 | Train Loss: 3.283982753753662 | Test Loss: 9.9478120803833 \n",
            "Epoch: 80 | Train Loss: 3.255160331726074 | Test Loss: 9.976527214050293 \n",
            "Epoch: 90 | Train Loss: 3.236820936203003 | Test Loss: 10.013360977172852 \n",
            "Epoch: 100 | Train Loss: 3.224982738494873 | Test Loss: 10.050442695617676 \n",
            "Epoch: 110 | Train Loss: 3.2172203063964844 | Test Loss: 10.084158897399902 \n",
            "Epoch: 120 | Train Loss: 3.2120461463928223 | Test Loss: 10.113180160522461 \n",
            "Epoch: 130 | Train Loss: 3.2085368633270264 | Test Loss: 10.137336730957031 \n",
            "Epoch: 140 | Train Loss: 3.2061171531677246 | Test Loss: 10.15700626373291 \n",
            "Epoch: 150 | Train Loss: 3.204420804977417 | Test Loss: 10.172785758972168 \n",
            "Epoch: 160 | Train Loss: 3.2032134532928467 | Test Loss: 10.185312271118164 \n",
            "Epoch: 170 | Train Loss: 3.202342987060547 | Test Loss: 10.195178031921387 \n",
            "Epoch: 180 | Train Loss: 3.201707363128662 | Test Loss: 10.20290470123291 \n",
            "Epoch: 190 | Train Loss: 3.2012386322021484 | Test Loss: 10.208932876586914 \n",
            "Epoch: 200 | Train Loss: 3.2008895874023438 | Test Loss: 10.21362018585205 \n",
            "Epoch: 210 | Train Loss: 3.2006289958953857 | Test Loss: 10.217254638671875 \n",
            "Epoch: 220 | Train Loss: 3.2004318237304688 | Test Loss: 10.22006893157959 \n",
            "Epoch: 230 | Train Loss: 3.2002830505371094 | Test Loss: 10.222246170043945 \n",
            "Epoch: 240 | Train Loss: 3.2001700401306152 | Test Loss: 10.223926544189453 \n",
            "Epoch: 250 | Train Loss: 3.2000834941864014 | Test Loss: 10.225225448608398 \n",
            "Epoch: 260 | Train Loss: 3.2000174522399902 | Test Loss: 10.226224899291992 \n",
            "Epoch: 270 | Train Loss: 3.199967861175537 | Test Loss: 10.226996421813965 \n",
            "Epoch: 280 | Train Loss: 3.1999282836914062 | Test Loss: 10.227591514587402 \n",
            "Epoch: 290 | Train Loss: 3.199899196624756 | Test Loss: 10.228049278259277 \n"
          ]
        }
      ]
    },
    {
      "cell_type": "code",
      "source": [
        "# Plot the loss curves\n",
        "plt.plot(epoch_count, train_loss_values, label=\"Train loss\")\n",
        "plt.plot(epoch_count, test_loss_values, label=\"Test loss\")\n",
        "plt.title(\"Training and test loss curves\")\n",
        "plt.ylabel(\"Loss\")\n",
        "plt.xlabel(\"Epochs\")\n",
        "plt.legend();"
      ],
      "metadata": {
        "id": "Kj0kDmbkNF1a",
        "colab": {
          "base_uri": "https://localhost:8080/",
          "height": 472
        },
        "outputId": "47e3ab80-b08e-4e2b-b64f-54b8e8f1f149"
      },
      "execution_count": null,
      "outputs": [
        {
          "output_type": "display_data",
          "data": {
            "text/plain": [
              "<Figure size 640x480 with 1 Axes>"
            ],
            "image/png": "[encoded data removed]"
          },
          "metadata": {}
        }
      ]
    },
    {
      "cell_type": "code",
      "source": [
        "# Find our model's learned parameters\n",
        "print(\"The model learned the following values for weights and bias:\")\n",
        "print(model_0.state_dict())"
      ],
      "metadata": {
        "id": "uDt0HTLPllkZ",
        "colab": {
          "base_uri": "https://localhost:8080/"
        },
        "outputId": "7ccbecab-fe23-4919-b476-f7804cdd07da"
      },
      "execution_count": null,
      "outputs": [
        {
          "output_type": "stream",
          "name": "stdout",
          "text": [
            "The model learned the following values for weights and bias:\n",
            "OrderedDict([('weights', tensor([1.1447], device='cuda:0')), ('bias', tensor([-3.0987], device='cuda:0'))])\n"
          ]
        }
      ]
    },
    {
      "cell_type": "markdown",
      "source": [
        "#### Making predictions with a trained PyTorch model (inference)"
      ],
      "metadata": {
        "id": "jyvSEe5j00Uk"
      }
    },
    {
      "cell_type": "code",
      "source": [
        "# 1. Set the model in evaluation mode\n",
        "model_0.eval()\n",
        "y_pred=[]\n",
        "y_gt=[]\n",
        "\n",
        "# 2. Setup the inference mode context manager\n",
        "with torch.inference_mode():\n",
        "  model_0.to(device)\n",
        "  for data in train_loader:\n",
        "    xtrain=data['sample']\n",
        "    ytrain=data['target']\n",
        "\n",
        "    y_preds = model_0(xtrain.to(device))\n",
        "    y_gt.append(ytrain)\n",
        "    y_pred.append(y_preds )"
      ],
      "metadata": {
        "id": "aIGTeTV800Uk"
      },
      "execution_count": null,
      "outputs": []
    },
    {
      "cell_type": "code",
      "source": [
        "Y_pred= torch.cat(y_pred).view(-1)\n",
        "Y_label= torch.cat(y_gt).view(-1)"
      ],
      "metadata": {
        "id": "f4gYQv2wrcm-"
      },
      "execution_count": null,
      "outputs": []
    },
    {
      "cell_type": "code",
      "source": [
        "plt.figure(figsize=(12,8))\n",
        "plt.scatter(df.Population,df.Profit)\n",
        "plt.xlabel('Population of Area in 10,000')\n",
        "plt.ylabel('Profit of Appolo Pharmacy in 10,000')\n",
        "plt.plot(train_data,Y_pred.cpu(),'r-')"
      ],
      "metadata": {
        "id": "YPuMAXRT00Uk",
        "colab": {
          "base_uri": "https://localhost:8080/",
          "height": 714
        },
        "outputId": "78170c58-a534-4e4f-dc58-e912331655c5"
      },
      "execution_count": null,
      "outputs": [
        {
          "output_type": "execute_result",
          "data": {
            "text/plain": [
              "[<matplotlib.lines.Line2D at 0x7dae4429b580>]"
            ]
          },
          "metadata": {},
          "execution_count": 69
        },
        {
          "output_type": "display_data",
          "data": {
            "text/plain": [
              "<Figure size 1200x800 with 1 Axes>"
            ],
            "image/png": "[encoded data removed]"
          },
          "metadata": {}
        }
      ]
    }
  ]
}