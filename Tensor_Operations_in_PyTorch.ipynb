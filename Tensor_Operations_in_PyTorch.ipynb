{
  "nbformat": 4,
  "nbformat_minor": 0,
  "metadata": {
    "colab": {
      "provenance": [],
      "gpuType": "T4",
      "include_colab_link": true
    },
    "kernelspec": {
      "name": "python3",
      "display_name": "Python 3"
    },
    "language_info": {
      "name": "python"
    },
    "accelerator": "GPU"
  },
  "cells": [
    {
      "cell_type": "markdown",
      "metadata": {
        "id": "view-in-github",
        "colab_type": "text"
      },
      "source": [
        "<a href=\"https://colab.research.google.com/github/Praveen76/Introduction-to-PyTorch/blob/main/Tensor_Operations_in_PyTorch.ipynb\" target=\"_parent\"><img src=\"https://colab.research.google.com/assets/colab-badge.svg\" alt=\"Open In Colab\"/></a>"
      ]
    },
    {
      "cell_type": "markdown",
      "source": [
        "## Learning Objectives"
      ],
      "metadata": {
        "id": "KD4Oi8YYwXGQ"
      }
    },
    {
      "cell_type": "markdown",
      "source": [
        "At the end of the experiment, you will be able to\n",
        "* understand Tensors and their application\n",
        "* define/form Tensors\n",
        "* perform different operations of Tensor using PyTorch library\n",
        "* understand & implement  Back-Propagation in PyTorch in low level"
      ],
      "metadata": {
        "id": "K_n2CCTpwbRx"
      }
    },
    {
      "cell_type": "markdown",
      "source": [
        "### Importing required library"
      ],
      "metadata": {
        "id": "ryf_XFGswfWW"
      }
    },
    {
      "cell_type": "code",
      "execution_count": null,
      "metadata": {
        "id": "Z5AJninTl4k3"
      },
      "outputs": [],
      "source": [
        "import torch\n",
        "import numpy as np\n",
        "import pandas as pd"
      ]
    },
    {
      "cell_type": "code",
      "source": [],
      "metadata": {
        "id": "z8ohMOGZpemy"
      },
      "execution_count": null,
      "outputs": []
    },
    {
      "cell_type": "markdown",
      "source": [
        "## Introduction\n",
        "\n",
        "**Tensors** : A tensor is a generalization of vectors and matrices to potentially higher dimensions, see the Table below. Internally, TensorFlow represents tensors as n-dimensional arrays of base datatypes. Each element in the Tensor has the same data type, and the data type is always known. Simply, tensor, in relation to machine learning, is a generalization of scalars, vectors and, matrices.\n",
        "\n",
        "<br><br>\n",
        "<center>\n",
        "<img src= \"https://datascienceimages.s3.eu-north-1.amazonaws.com/Tensor_Operations_in_PyTorch/Intro_tensor.png\" width=700px/>\n",
        "</center>\n"
      ],
      "metadata": {
        "id": "_2hRkKEK0j-V"
      }
    },
    {
      "cell_type": "markdown",
      "source": [
        "* From the above explanation, you might have understood that Tensor operations are nothing but matrix operations.\n",
        "\n",
        "**PyTorch** :\n",
        "We are introducing PyTorch here, a widely used library for Machine Learning, specifically deep learning. PyTorch is an open source machine learning framework based on the Torch library, used for applications such as computer vision and natural language processing, primarily developed by Meta AI. It is free and open-source software.\n",
        "* In the following sections, we will see few commonly used operations of Tensor using PyTorch Library."
      ],
      "metadata": {
        "id": "q55BXrj-156D"
      }
    },
    {
      "cell_type": "markdown",
      "source": [
        "### Creation of 1D Tensor"
      ],
      "metadata": {
        "id": "pXyN211EnAMS"
      }
    },
    {
      "cell_type": "code",
      "source": [
        "a=torch.FloatTensor([0,1,2,3])\n",
        "print(a)\n"
      ],
      "metadata": {
        "colab": {
          "base_uri": "https://localhost:8080/"
        },
        "id": "K7-acIhZmStQ",
        "outputId": "a0284085-6dd0-401a-fc3a-02e336a7696c"
      },
      "execution_count": null,
      "outputs": [
        {
          "output_type": "stream",
          "name": "stdout",
          "text": [
            "tensor([0., 1., 2., 3.])\n"
          ]
        }
      ]
    },
    {
      "cell_type": "code",
      "source": [
        "a=torch.IntTensor([0,1,2,3])\n",
        "print(a)"
      ],
      "metadata": {
        "colab": {
          "base_uri": "https://localhost:8080/"
        },
        "id": "S_NLcHglxrC8",
        "outputId": "d66b19dd-f98e-4728-ae53-4006e77e3c71"
      },
      "execution_count": null,
      "outputs": [
        {
          "output_type": "stream",
          "name": "stdout",
          "text": [
            "tensor([0, 1, 2, 3], dtype=torch.int32)\n"
          ]
        }
      ]
    },
    {
      "cell_type": "code",
      "source": [
        "# Another way: Again, it returns a torch.FloatTensor and data type is float.\n",
        "b = torch.Tensor([2,3])\n",
        "print(b.dtype)\n",
        "print(b)"
      ],
      "metadata": {
        "colab": {
          "base_uri": "https://localhost:8080/"
        },
        "id": "npwDxOmNvYbk",
        "outputId": "d47c556a-bbd4-485a-9136-551a27db6c95"
      },
      "execution_count": null,
      "outputs": [
        {
          "output_type": "stream",
          "name": "stdout",
          "text": [
            "torch.float32\n",
            "tensor([2., 3.])\n"
          ]
        }
      ]
    },
    {
      "cell_type": "code",
      "source": [
        "# Another way:It infers the dtype automatically.\n",
        "x = torch.tensor([1., 2., 4, 5, 6])\n",
        "print(x.dtype)\n",
        "print(x)"
      ],
      "metadata": {
        "colab": {
          "base_uri": "https://localhost:8080/"
        },
        "id": "jzHKY1YHzDsd",
        "outputId": "b422c497-5a1f-47d6-86bc-7190b2fcbf96"
      },
      "execution_count": null,
      "outputs": [
        {
          "output_type": "stream",
          "name": "stdout",
          "text": [
            "torch.float32\n",
            "tensor([1., 2., 4., 5., 6.])\n"
          ]
        }
      ]
    },
    {
      "cell_type": "markdown",
      "source": [
        "In above two ways of defining tensor, notice the capital 'T' and small 't' while writing tensor after torch.Both are different."
      ],
      "metadata": {
        "id": "tkTqYgfrznYH"
      }
    },
    {
      "cell_type": "markdown",
      "source": [
        "### Types of Tensors, dimension, size"
      ],
      "metadata": {
        "id": "iDnf-yoinD-U"
      }
    },
    {
      "cell_type": "code",
      "source": [
        "# Using above defined tensor 'a'.\n",
        "print(a.type())\n",
        "print(type(a))\n",
        "print(a.dtype)\n",
        "print(a.size())\n",
        "print(a.ndimension())"
      ],
      "metadata": {
        "colab": {
          "base_uri": "https://localhost:8080/"
        },
        "id": "UrWHAX2AmmL0",
        "outputId": "3c11ed18-8caa-4be3-f5f8-5f5337307811"
      },
      "execution_count": null,
      "outputs": [
        {
          "output_type": "stream",
          "name": "stdout",
          "text": [
            "torch.IntTensor\n",
            "<class 'torch.Tensor'>\n",
            "torch.int32\n",
            "torch.Size([4])\n",
            "1\n"
          ]
        }
      ]
    },
    {
      "cell_type": "markdown",
      "source": [
        "### Creating a scalar tensor"
      ],
      "metadata": {
        "id": "MnO1cCE61tcL"
      }
    },
    {
      "cell_type": "code",
      "source": [
        "c = torch.tensor(20)\n",
        "print(c)\n",
        "print(c.size())"
      ],
      "metadata": {
        "colab": {
          "base_uri": "https://localhost:8080/"
        },
        "id": "74Fo0yXSsdFa",
        "outputId": "829fdd97-b19b-418e-9b46-6b0094d96a72"
      },
      "execution_count": null,
      "outputs": [
        {
          "output_type": "stream",
          "name": "stdout",
          "text": [
            "tensor(20)\n",
            "torch.Size([])\n"
          ]
        }
      ]
    },
    {
      "cell_type": "markdown",
      "source": [
        "### Converting scalar to python number"
      ],
      "metadata": {
        "id": "0WDI09qs123h"
      }
    },
    {
      "cell_type": "code",
      "source": [
        "print(c.item())\n",
        "print(type(c.item()))"
      ],
      "metadata": {
        "colab": {
          "base_uri": "https://localhost:8080/"
        },
        "id": "lwgjxH07slVF",
        "outputId": "18e4368c-5b05-4971-c8e4-12d376f1f1d3"
      },
      "execution_count": null,
      "outputs": [
        {
          "output_type": "stream",
          "name": "stdout",
          "text": [
            "20\n",
            "<class 'int'>\n"
          ]
        }
      ]
    },
    {
      "cell_type": "markdown",
      "source": [
        "### Changing from 1D to 2D"
      ],
      "metadata": {
        "id": "242gGhYjB_Rf"
      }
    },
    {
      "cell_type": "code",
      "source": [
        "a=torch.tensor([0,1,2,3])\n",
        "print(a)\n",
        "a_col=a.view(4,1) # view method can be used to change(shape) 1D into 2D\n",
        "a_col"
      ],
      "metadata": {
        "colab": {
          "base_uri": "https://localhost:8080/"
        },
        "id": "X03uWZoCnlpM",
        "outputId": "cf592dba-9b26-40ff-d487-ed016bc0eb99"
      },
      "execution_count": null,
      "outputs": [
        {
          "output_type": "stream",
          "name": "stdout",
          "text": [
            "tensor([0, 1, 2, 3])\n"
          ]
        },
        {
          "output_type": "execute_result",
          "data": {
            "text/plain": [
              "tensor([[0],\n",
              "        [1],\n",
              "        [2],\n",
              "        [3]])"
            ]
          },
          "metadata": {},
          "execution_count": 9
        }
      ]
    },
    {
      "cell_type": "code",
      "source": [
        "a_col=a.view(-1,1)# If we dont know the size of initial array\n",
        "a_col"
      ],
      "metadata": {
        "colab": {
          "base_uri": "https://localhost:8080/"
        },
        "id": "LSg3735Dnw7p",
        "outputId": "c43d2f29-6737-4d57-d4e6-af81ce9cb5a6"
      },
      "execution_count": null,
      "outputs": [
        {
          "output_type": "execute_result",
          "data": {
            "text/plain": [
              "tensor([[0],\n",
              "        [1],\n",
              "        [2],\n",
              "        [3]])"
            ]
          },
          "metadata": {},
          "execution_count": 10
        }
      ]
    },
    {
      "cell_type": "code",
      "source": [
        "# Checking the dimension of result array\n",
        "a_col.ndimension()"
      ],
      "metadata": {
        "colab": {
          "base_uri": "https://localhost:8080/"
        },
        "id": "SB5d4-oqn8Cd",
        "outputId": "3cf2f046-349e-4228-8398-e23b81039f54"
      },
      "execution_count": null,
      "outputs": [
        {
          "output_type": "execute_result",
          "data": {
            "text/plain": [
              "2"
            ]
          },
          "metadata": {},
          "execution_count": 11
        }
      ]
    },
    {
      "cell_type": "markdown",
      "source": [
        "### Defining tensor with user defined data type"
      ],
      "metadata": {
        "id": "-pCWuCfS2lKg"
      }
    },
    {
      "cell_type": "code",
      "source": [
        "an=torch.tensor([0.0,1.0,2.0,3.0,4.0],dtype=torch.int32)\n",
        "print(an)\n",
        "an.dtype"
      ],
      "metadata": {
        "colab": {
          "base_uri": "https://localhost:8080/"
        },
        "id": "QIFUcUzvX9hJ",
        "outputId": "547f5ed4-9f72-4ae4-de8f-8d7f935d02d1"
      },
      "execution_count": null,
      "outputs": [
        {
          "output_type": "stream",
          "name": "stdout",
          "text": [
            "tensor([0, 1, 2, 3, 4], dtype=torch.int32)\n"
          ]
        },
        {
          "output_type": "execute_result",
          "data": {
            "text/plain": [
              "torch.int32"
            ]
          },
          "metadata": {},
          "execution_count": 12
        }
      ]
    },
    {
      "cell_type": "markdown",
      "source": [
        "### Value Assigenment to any position of tensor"
      ],
      "metadata": {
        "id": "kLx3QsaUq6JL"
      }
    },
    {
      "cell_type": "code",
      "source": [
        "T1= torch.tensor([1,2,3,4,5,6,7])\n",
        "print(T1)\n",
        "T1[0]=100  # Assiging value 100 to zeroth positional element\n",
        "print(T1)"
      ],
      "metadata": {
        "colab": {
          "base_uri": "https://localhost:8080/"
        },
        "id": "85uKayJtqcTp",
        "outputId": "aeaa0aea-b0f4-45ea-8bbe-3b4c3077a86f"
      },
      "execution_count": null,
      "outputs": [
        {
          "output_type": "stream",
          "name": "stdout",
          "text": [
            "tensor([1, 2, 3, 4, 5, 6, 7])\n",
            "tensor([100,   2,   3,   4,   5,   6,   7])\n"
          ]
        }
      ]
    },
    {
      "cell_type": "code",
      "source": [
        "T1[1:3]=torch.tensor([10,20]) # Assigning 10 and 20 respectively in first and 2nd positional elements\n",
        "T1"
      ],
      "metadata": {
        "colab": {
          "base_uri": "https://localhost:8080/"
        },
        "id": "2ypCkz7grK4G",
        "outputId": "7792dd3b-8ce0-417d-ea92-88575ff45e64"
      },
      "execution_count": null,
      "outputs": [
        {
          "output_type": "execute_result",
          "data": {
            "text/plain": [
              "tensor([100,  10,  20,   4,   5,   6,   7])"
            ]
          },
          "metadata": {},
          "execution_count": 14
        }
      ]
    },
    {
      "cell_type": "markdown",
      "source": [
        "### Just like numpy, creating a tensor by copying another tensor results, pointing to same memory location"
      ],
      "metadata": {
        "id": "3-XpLSRH2111"
      }
    },
    {
      "cell_type": "code",
      "source": [
        "a = torch.tensor([2.0, 3])\n",
        "b = a\n",
        "b[0] = 11 # Value Assigenment to any position of tensor\n",
        "print(a)\n",
        "print(b)"
      ],
      "metadata": {
        "colab": {
          "base_uri": "https://localhost:8080/"
        },
        "id": "DKF622zAtAeo",
        "outputId": "dd2ae43c-6eb9-4a80-a7d6-ac1579555311"
      },
      "execution_count": null,
      "outputs": [
        {
          "output_type": "stream",
          "name": "stdout",
          "text": [
            "tensor([11.,  3.])\n",
            "tensor([11.,  3.])\n"
          ]
        }
      ]
    },
    {
      "cell_type": "markdown",
      "source": [
        "### Type casting"
      ],
      "metadata": {
        "id": "CQZiqclUoVdS"
      }
    },
    {
      "cell_type": "code",
      "source": [
        "# Using above defined tensor 'a_col'\n",
        "print(a_col)\n",
        "a_col=a_col.type(torch.FloatTensor)   # type casting\n",
        "print(a_col)"
      ],
      "metadata": {
        "colab": {
          "base_uri": "https://localhost:8080/"
        },
        "id": "MOFfglybZUKy",
        "outputId": "561bf8f7-a9de-4390-8c11-1fc92789bc22"
      },
      "execution_count": null,
      "outputs": [
        {
          "output_type": "stream",
          "name": "stdout",
          "text": [
            "tensor([[0],\n",
            "        [1],\n",
            "        [2],\n",
            "        [3]])\n",
            "tensor([[0.],\n",
            "        [1.],\n",
            "        [2.],\n",
            "        [3.]])\n"
          ]
        }
      ]
    },
    {
      "cell_type": "markdown",
      "source": [
        "### Slicing of 1D Tensor"
      ],
      "metadata": {
        "id": "-XB7204Rmvdb"
      }
    },
    {
      "cell_type": "code",
      "source": [
        "T1= torch.tensor([1,2,3,4,5,6,7]) # Note zeroth position element is 1 and first position element is 2 and so on.. like List/NumPy array.\n",
        "print(T1)"
      ],
      "metadata": {
        "colab": {
          "base_uri": "https://localhost:8080/"
        },
        "id": "G6wm8OiBozIZ",
        "outputId": "0e5348f1-a0a4-4506-f09b-1391e222e135"
      },
      "execution_count": null,
      "outputs": [
        {
          "output_type": "stream",
          "name": "stdout",
          "text": [
            "tensor([1, 2, 3, 4, 5, 6, 7])\n"
          ]
        }
      ]
    },
    {
      "cell_type": "code",
      "source": [
        "# Few slicing examples are given below: Same as slicing list or 1D numpy array.\n",
        "print(T1[1]) # Getting fist positional element\n",
        "print(T1[1].item()) # getting number out of a tensor\n",
        "print(T1[:3]) # All element from the beginning till 3rd positional element but, 3rd positional element not included\n",
        "print(T1[2:]) # All elements starting from 2nd positional till last\n",
        "print(T1[4:7]) # All elements beginning from 4rth positional element  till 7th positional element but, 7th positional element not included"
      ],
      "metadata": {
        "colab": {
          "base_uri": "https://localhost:8080/"
        },
        "id": "jxR1Ruc8pF_6",
        "outputId": "38e3145d-02ac-4340-fed9-bd678584e4a9"
      },
      "execution_count": null,
      "outputs": [
        {
          "output_type": "stream",
          "name": "stdout",
          "text": [
            "tensor(2)\n",
            "2\n",
            "tensor([1, 2, 3])\n",
            "tensor([3, 4, 5, 6, 7])\n",
            "tensor([5, 6, 7])\n"
          ]
        }
      ]
    },
    {
      "cell_type": "markdown",
      "source": [
        "### Torch Tensor to NumPy Array"
      ],
      "metadata": {
        "id": "NBPaDc3WpK-q"
      }
    },
    {
      "cell_type": "code",
      "source": [
        "# Converting T1 tensor (as defined below) into NumPy array:\n",
        "T1= torch.tensor([1,2,3,4,5,6,7])\n",
        "print(T1)\n",
        "N1=T1.numpy()\n",
        "print(N1)\n",
        "type(N1)"
      ],
      "metadata": {
        "colab": {
          "base_uri": "https://localhost:8080/"
        },
        "id": "-Czk9gr7mv2L",
        "outputId": "948d73ac-27c5-4f45-a03f-5bbc309c0f9f"
      },
      "execution_count": null,
      "outputs": [
        {
          "output_type": "stream",
          "name": "stdout",
          "text": [
            "tensor([1, 2, 3, 4, 5, 6, 7])\n",
            "[1 2 3 4 5 6 7]\n"
          ]
        },
        {
          "output_type": "execute_result",
          "data": {
            "text/plain": [
              "numpy.ndarray"
            ]
          },
          "metadata": {},
          "execution_count": 19
        }
      ]
    },
    {
      "cell_type": "markdown",
      "source": [
        "### NumPy Array to Torch Tensor"
      ],
      "metadata": {
        "id": "Zxr57I9apdAp"
      }
    },
    {
      "cell_type": "code",
      "source": [
        "# Converting NumPy array (as defined below) into Tensor array:\n",
        "n_array=np.array([1,2,3,4,6,7])\n",
        "print(n_array)\n",
        "torch_tensor=torch.from_numpy(n_array)\n",
        "torch_tensor"
      ],
      "metadata": {
        "colab": {
          "base_uri": "https://localhost:8080/"
        },
        "id": "UsD3cy1kpcUH",
        "outputId": "9481f4cd-9bb0-4f39-fb26-5795e0b132ab"
      },
      "execution_count": null,
      "outputs": [
        {
          "output_type": "stream",
          "name": "stdout",
          "text": [
            "[1 2 3 4 6 7]\n"
          ]
        },
        {
          "output_type": "execute_result",
          "data": {
            "text/plain": [
              "tensor([1, 2, 3, 4, 6, 7])"
            ]
          },
          "metadata": {},
          "execution_count": 20
        }
      ]
    },
    {
      "cell_type": "markdown",
      "source": [
        "### List from Torch Tensor"
      ],
      "metadata": {
        "id": "6-frNAwsqc0Y"
      }
    },
    {
      "cell_type": "code",
      "source": [
        "# Converting T1 tensor (as defined below) into NumPy array:\n",
        "T1= torch.tensor([1,2,3,4,5,6,7])\n",
        "print(T1)\n",
        "List1=T1.tolist()\n",
        "List1"
      ],
      "metadata": {
        "colab": {
          "base_uri": "https://localhost:8080/"
        },
        "id": "Aluy-5bUqfaH",
        "outputId": "bc2abf0f-6866-44ad-ff17-03e950c22999"
      },
      "execution_count": null,
      "outputs": [
        {
          "output_type": "stream",
          "name": "stdout",
          "text": [
            "tensor([1, 2, 3, 4, 5, 6, 7])\n"
          ]
        },
        {
          "output_type": "execute_result",
          "data": {
            "text/plain": [
              "[1, 2, 3, 4, 5, 6, 7]"
            ]
          },
          "metadata": {},
          "execution_count": 21
        }
      ]
    },
    {
      "cell_type": "markdown",
      "source": [
        "### Few mathematical operations\n",
        "##### Addition : shape of both tensor should match"
      ],
      "metadata": {
        "id": "nXA9vAa5ruiV"
      }
    },
    {
      "cell_type": "code",
      "source": [
        "b=torch.tensor([1.,2.,3.,4.])\n",
        "c=torch.tensor([1.,2.,3.,4.])\n",
        "z=b+c\n",
        "z"
      ],
      "metadata": {
        "colab": {
          "base_uri": "https://localhost:8080/"
        },
        "id": "6Xy37UFlrzVf",
        "outputId": "d4a46651-d494-4272-9169-847e7117c505"
      },
      "execution_count": null,
      "outputs": [
        {
          "output_type": "execute_result",
          "data": {
            "text/plain": [
              "tensor([2., 4., 6., 8.])"
            ]
          },
          "metadata": {},
          "execution_count": 73
        }
      ]
    },
    {
      "cell_type": "markdown",
      "source": [
        "##### Vector multiplication with a scalar"
      ],
      "metadata": {
        "id": "Ujcpplb87aVK"
      }
    },
    {
      "cell_type": "code",
      "source": [
        "c=torch.tensor([1.,2.,3.,4.])\n",
        "k=10\n",
        "r=k*c\n",
        "r"
      ],
      "metadata": {
        "id": "QAMMoly-sR3q",
        "colab": {
          "base_uri": "https://localhost:8080/"
        },
        "outputId": "179b8780-dd00-423a-85bb-8a05d719af99"
      },
      "execution_count": null,
      "outputs": [
        {
          "output_type": "execute_result",
          "data": {
            "text/plain": [
              "tensor([10., 20., 30., 40.])"
            ]
          },
          "metadata": {},
          "execution_count": 74
        }
      ]
    },
    {
      "cell_type": "markdown",
      "source": [
        "##### Hadamard Product: Elementwise Multiplication"
      ],
      "metadata": {
        "id": "I6fEOrYzndxz"
      }
    },
    {
      "cell_type": "code",
      "source": [
        "b=torch.tensor([1.,2.,3.,4.])\n",
        "c=torch.tensor([1.,2.,3.,4.])\n",
        "z1=b*c\n",
        "z1"
      ],
      "metadata": {
        "colab": {
          "base_uri": "https://localhost:8080/"
        },
        "id": "mFBM0CDKnxeh",
        "outputId": "945667aa-9cbb-40eb-8cca-77868925e46a"
      },
      "execution_count": null,
      "outputs": [
        {
          "output_type": "execute_result",
          "data": {
            "text/plain": [
              "tensor([ 1.,  4.,  9., 16.])"
            ]
          },
          "metadata": {},
          "execution_count": 75
        }
      ]
    },
    {
      "cell_type": "markdown",
      "source": [
        "##### Dot Product of two vectors\n",
        "- Summation after elementwise mulitpication or Matrix mulipication of vecter b and c : bT. c where bT -> Transposed b."
      ],
      "metadata": {
        "id": "MMzIUg4boJU0"
      }
    },
    {
      "cell_type": "code",
      "source": [
        "b=torch.tensor([1.,2.,3.,4.])\n",
        "c=torch.tensor([1.,2.,3.,4.])\n",
        "torch.dot(b,c)"
      ],
      "metadata": {
        "colab": {
          "base_uri": "https://localhost:8080/"
        },
        "id": "zJwBv1ZdocXU",
        "outputId": "676bcd63-1092-4d49-8970-abc60d9c5e49"
      },
      "execution_count": null,
      "outputs": [
        {
          "output_type": "execute_result",
          "data": {
            "text/plain": [
              "tensor(30.)"
            ]
          },
          "metadata": {},
          "execution_count": 76
        }
      ]
    },
    {
      "cell_type": "code",
      "source": [
        "b"
      ],
      "metadata": {
        "colab": {
          "base_uri": "https://localhost:8080/"
        },
        "id": "aU1FuXLiHUfc",
        "outputId": "70bcd75f-9b21-4b7a-db88-5a7c4a57823f"
      },
      "execution_count": null,
      "outputs": [
        {
          "output_type": "execute_result",
          "data": {
            "text/plain": [
              "tensor([1., 2., 3., 4.])"
            ]
          },
          "metadata": {},
          "execution_count": 77
        }
      ]
    },
    {
      "cell_type": "code",
      "source": [
        "b.T"
      ],
      "metadata": {
        "colab": {
          "base_uri": "https://localhost:8080/"
        },
        "id": "IqNfUfxdHWZe",
        "outputId": "27aed9c5-cada-48e8-9b2b-13b0ecd32f18"
      },
      "execution_count": null,
      "outputs": [
        {
          "output_type": "execute_result",
          "data": {
            "text/plain": [
              "tensor([1., 2., 3., 4.])"
            ]
          },
          "metadata": {},
          "execution_count": 78
        }
      ]
    },
    {
      "cell_type": "markdown",
      "source": [
        "### Universal functions : Element-Wise Array Operation"
      ],
      "metadata": {
        "id": "M2Pjcds5pw6p"
      }
    },
    {
      "cell_type": "markdown",
      "source": [
        "Generating equal spaced data points"
      ],
      "metadata": {
        "id": "cs1KoSB3tQOZ"
      }
    },
    {
      "cell_type": "code",
      "source": [
        "# Creating a tensor having 7 equal spaced data points from -3 to 3 including both\n",
        "b = torch.linspace(-3,3,7)\n",
        "print(b)\n",
        "print(b.mean())\n",
        "print(b.max())"
      ],
      "metadata": {
        "colab": {
          "base_uri": "https://localhost:8080/"
        },
        "id": "TKg3d7C9tXor",
        "outputId": "1498a85e-8cc8-4d93-d5f7-5cbe55e6cf9c"
      },
      "execution_count": null,
      "outputs": [
        {
          "output_type": "stream",
          "name": "stdout",
          "text": [
            "tensor([-3., -2., -1.,  0.,  1.,  2.,  3.])\n",
            "tensor(0.)\n",
            "tensor(3.)\n"
          ]
        }
      ]
    },
    {
      "cell_type": "markdown",
      "source": [
        "Note : In all three operations given below, we are able to operate on each element of array in one shot. This is fast and called universal function, which  is element-wise opeation."
      ],
      "metadata": {
        "id": "8IlYabGzBFTT"
      }
    },
    {
      "cell_type": "code",
      "source": [
        "b = torch.linspace(-3,3,7) # Creating 1D tensor\n",
        "print(b)\n",
        "print(torch.exp(b))  # Calculates exponential of each element and array of same shape as original is obtained.\n",
        "z=torch.pow(b,2)     # Calcualtes square of each element and array of same shape as original is obtained.\n",
        "print(z)\n",
        "print(torch.sqrt(z)) # Calcualtes square root"
      ],
      "metadata": {
        "colab": {
          "base_uri": "https://localhost:8080/"
        },
        "id": "uhQOFlbr_onu",
        "outputId": "ff5d5d1a-08b4-485c-eb14-9b0464d78da4"
      },
      "execution_count": null,
      "outputs": [
        {
          "output_type": "stream",
          "name": "stdout",
          "text": [
            "tensor([-3., -2., -1.,  0.,  1.,  2.,  3.])\n",
            "tensor([ 0.0498,  0.1353,  0.3679,  1.0000,  2.7183,  7.3891, 20.0855])\n",
            "tensor([9., 4., 1., 0., 1., 4., 9.])\n",
            "tensor([3., 2., 1., 0., 1., 2., 3.])\n"
          ]
        }
      ]
    },
    {
      "cell_type": "markdown",
      "source": [
        "##### Another example of universal function : torch.sin () & visualization of sin function :\n",
        "\n",
        "\n",
        "\n"
      ],
      "metadata": {
        "id": "LW99w6Z5CIYO"
      }
    },
    {
      "cell_type": "code",
      "source": [
        "# Creating a tensor having 100 equal spaced data points from 0 to 2pi including both\n",
        "x=torch.linspace(0,2*np.pi,100)\n",
        "y=torch.sin(x)"
      ],
      "metadata": {
        "id": "8-rYy2Tutu-n"
      },
      "execution_count": null,
      "outputs": []
    },
    {
      "cell_type": "code",
      "source": [
        "import matplotlib.pyplot as plt\n",
        "%matplotlib inline\n",
        "plt.plot(x.numpy(),y.numpy())"
      ],
      "metadata": {
        "colab": {
          "base_uri": "https://localhost:8080/",
          "height": 283
        },
        "id": "v1kGJDKUuWUI",
        "outputId": "99d4c4de-06de-4377-ece5-5c908b516721"
      },
      "execution_count": null,
      "outputs": [
        {
          "output_type": "execute_result",
          "data": {
            "text/plain": [
              "[<matplotlib.lines.Line2D at 0x7f272b78d190>]"
            ]
          },
          "metadata": {},
          "execution_count": 82
        },
        {
          "output_type": "display_data",
          "data": {
            "text/plain": [
              "<Figure size 432x288 with 1 Axes>"
            ],
            "image/png": "[encoded data removed]"
          },
          "metadata": {
            "needs_background": "light"
          }
        }
      ]
    },
    {
      "cell_type": "markdown",
      "source": [
        "## Intro to 2D tensor\n",
        "The methods and types for 2D tensors is similar to the methods and types for 1D tensors which has been introduced till now.Let us see how to convert a 2D list to a 2D tensor.\n"
      ],
      "metadata": {
        "id": "4mde_mTt132W"
      }
    },
    {
      "cell_type": "code",
      "source": [
        "# Convert 2D List to 2D Tensor\n",
        "\n",
        "twoD_list = [[11, 12, 13], [21, 22, 23], [31, 32, 33]]\n",
        "twoD_tensor = torch.tensor(twoD_list)\n",
        "# Or Direcltly: twoD_tensor = torch.tensor( [[11, 12, 13], [21, 22, 23], [31, 32, 33]] )\n",
        "print(\"The New 2D Tensor: \", twoD_tensor)"
      ],
      "metadata": {
        "id": "Cpz4Wa2616wU",
        "colab": {
          "base_uri": "https://localhost:8080/"
        },
        "outputId": "1a288266-7d52-4ae7-8dbf-fee0ac482dc8"
      },
      "execution_count": null,
      "outputs": [
        {
          "output_type": "stream",
          "name": "stdout",
          "text": [
            "The New 2D Tensor:  tensor([[11, 12, 13],\n",
            "        [21, 22, 23],\n",
            "        [31, 32, 33]])\n"
          ]
        }
      ]
    },
    {
      "cell_type": "code",
      "source": [
        "# Try tensor_obj.ndimension(), tensor_obj.shape, tensor_obj.size()\n",
        "\n",
        "print(\"The dimension of twoD_tensor: \", twoD_tensor.ndimension())\n",
        "print(\"The shape of twoD_tensor: \", twoD_tensor.shape)\n",
        "print(\"The shape of twoD_tensor: \", twoD_tensor.size())\n",
        "print(\"The number of elements in twoD_tensor: \", twoD_tensor.numel())"
      ],
      "metadata": {
        "colab": {
          "base_uri": "https://localhost:8080/"
        },
        "id": "UutOYp5asAJL",
        "outputId": "310b5fe7-e828-4b7e-8e01-5e53ea037015"
      },
      "execution_count": null,
      "outputs": [
        {
          "output_type": "stream",
          "name": "stdout",
          "text": [
            "The dimension of twoD_tensor:  2\n",
            "The shape of twoD_tensor:  torch.Size([3, 3])\n",
            "The shape of twoD_tensor:  torch.Size([3, 3])\n",
            "The number of elements in twoD_tensor:  9\n"
          ]
        }
      ]
    },
    {
      "cell_type": "markdown",
      "source": [
        "Converting the tensor to a numpy array and convert the numpy array back to a tensor."
      ],
      "metadata": {
        "id": "rFLDRhItsDnh"
      }
    },
    {
      "cell_type": "code",
      "source": [
        "# Convert tensor to numpy array; Convert numpy array to tensor\n",
        "\n",
        "twoD_numpy = twoD_tensor.numpy()\n",
        "print(\"Tensor -> Numpy Array:\")\n",
        "print(\"The numpy array after converting: \", twoD_numpy)\n",
        "print(\"Type after converting: \", twoD_numpy.dtype)\n",
        "\n",
        "print(\"================================================\")\n",
        "\n",
        "new_twoD_tensor = torch.from_numpy(twoD_numpy)\n",
        "print(\"Numpy Array -> Tensor:\")\n",
        "print(\"The tensor after converting:\", new_twoD_tensor)\n",
        "print(\"Type after converting: \", new_twoD_tensor.dtype)\n"
      ],
      "metadata": {
        "colab": {
          "base_uri": "https://localhost:8080/"
        },
        "id": "wgfPggWOsHuJ",
        "outputId": "93e14e75-33fa-4cdd-d188-7d268057b5ce"
      },
      "execution_count": null,
      "outputs": [
        {
          "output_type": "stream",
          "name": "stdout",
          "text": [
            "Tensor -> Numpy Array:\n",
            "The numpy array after converting:  [[11 12 13]\n",
            " [21 22 23]\n",
            " [31 32 33]]\n",
            "Type after converting:  int64\n",
            "================================================\n",
            "Numpy Array -> Tensor:\n",
            "The tensor after converting: tensor([[11, 12, 13],\n",
            "        [21, 22, 23],\n",
            "        [31, 32, 33]])\n",
            "Type after converting:  torch.int64\n"
          ]
        }
      ]
    },
    {
      "cell_type": "markdown",
      "source": [
        "### Transpose of a Tensor"
      ],
      "metadata": {
        "id": "ekqTcjrWH6ua"
      }
    },
    {
      "cell_type": "code",
      "source": [
        "## Creating a 2D tensor\n",
        "T2D = torch.tensor([[1, 2, 3], [4, 5, 6]])\n",
        "print(T2D)\n",
        "print(T2D.shape)"
      ],
      "metadata": {
        "colab": {
          "base_uri": "https://localhost:8080/"
        },
        "id": "3_pQtvJmH-lI",
        "outputId": "6745da3c-470a-4fb5-dfbd-08c799e91bcb"
      },
      "execution_count": null,
      "outputs": [
        {
          "output_type": "stream",
          "name": "stdout",
          "text": [
            "tensor([[1, 2, 3],\n",
            "        [4, 5, 6]])\n",
            "torch.Size([2, 3])\n"
          ]
        }
      ]
    },
    {
      "cell_type": "code",
      "source": [
        "## Transposing above tensor\n",
        "T2D_Trans= T2D.T\n",
        "print(T2D_Trans)\n",
        "print(T2D_Trans.shape)"
      ],
      "metadata": {
        "colab": {
          "base_uri": "https://localhost:8080/"
        },
        "id": "VrMx4q6qJP-J",
        "outputId": "39046bd6-777a-4292-8acc-6d8306f803bb"
      },
      "execution_count": null,
      "outputs": [
        {
          "output_type": "stream",
          "name": "stdout",
          "text": [
            "tensor([[1, 4],\n",
            "        [2, 5],\n",
            "        [3, 6]])\n",
            "torch.Size([3, 2])\n"
          ]
        }
      ]
    },
    {
      "cell_type": "markdown",
      "source": [
        "### Pandas Dataframe to a Tensor\n",
        "We can obtain the numpy array via the attribute values. Then, we can use torch.from_numpy() to convert the value of the Pandas Series to a tensor."
      ],
      "metadata": {
        "id": "dVhWaTlPtIqX"
      }
    },
    {
      "cell_type": "code",
      "source": [
        "# Try to convert the Panda Dataframe to tensor\n",
        "\n",
        "df = pd.DataFrame({'a':[11,21,31],'b':[12,22,312]})\n",
        "\n",
        "print(\"Pandas Dataframe to numpy: \", df.values)\n",
        "print(\"Type BEFORE converting: \", df.values.dtype)\n",
        "\n",
        "print(\"================================================\")\n",
        "\n",
        "new_tensor = torch.from_numpy(df.values)\n",
        "print(\"Tensor AFTER converting: \", new_tensor)\n",
        "print(\"Type AFTER converting: \", new_tensor.dtype)"
      ],
      "metadata": {
        "colab": {
          "base_uri": "https://localhost:8080/"
        },
        "id": "6XTyHIDktV2g",
        "outputId": "74c7862d-4de9-423b-c2b7-7f3ffc2438f9"
      },
      "execution_count": null,
      "outputs": [
        {
          "output_type": "stream",
          "name": "stdout",
          "text": [
            "Pandas Dataframe to numpy:  [[ 11  12]\n",
            " [ 21  22]\n",
            " [ 31 312]]\n",
            "Type BEFORE converting:  int64\n",
            "================================================\n",
            "Tensor AFTER converting:  tensor([[ 11,  12],\n",
            "        [ 21,  22],\n",
            "        [ 31, 312]])\n",
            "Type AFTER converting:  torch.int64\n"
          ]
        }
      ]
    },
    {
      "cell_type": "markdown",
      "source": [
        "### Slicing of a 2D Tensor\n",
        "\n",
        "* We are going to define a 2D Matrix as given in the image below and apply the slicing operations.\n",
        "\n",
        "<br><br>\n",
        "<center>\n",
        "<img src= \"https://datascienceimages.s3.eu-north-1.amazonaws.com/Tensor_Operations_in_PyTorch/2D_array_slicing.png\" width=600px/>\n",
        "\n",
        "</center>"
      ],
      "metadata": {
        "id": "WaSEV4cn75YX"
      }
    },
    {
      "cell_type": "code",
      "source": [
        "a2d = torch.tensor([[1, 2, 3, 4], [4, 5, 6, 7], [7, 8, 9,10]])\n",
        "print(\"The New 2D Tensor: \", a2d)"
      ],
      "metadata": {
        "colab": {
          "base_uri": "https://localhost:8080/"
        },
        "id": "pwwUD6FY8nQ8",
        "outputId": "8b3e6981-0531-4533-dc7a-003c90a99124"
      },
      "execution_count": null,
      "outputs": [
        {
          "output_type": "stream",
          "name": "stdout",
          "text": [
            "The New 2D Tensor:  tensor([[ 1,  2,  3,  4],\n",
            "        [ 4,  5,  6,  7],\n",
            "        [ 7,  8,  9, 10]])\n"
          ]
        }
      ]
    },
    {
      "cell_type": "markdown",
      "source": [
        "Examine the slicing examples given below in accordence with the above image and notice the result and corresponding color for distinguinshing the sliced part of the matrix."
      ],
      "metadata": {
        "id": "ZhoFqrEU96sW"
      }
    },
    {
      "cell_type": "code",
      "source": [
        "# Examples 1\n",
        "a2d[:,:1]"
      ],
      "metadata": {
        "colab": {
          "base_uri": "https://localhost:8080/"
        },
        "id": "VLw-oOwq9cUv",
        "outputId": "14e30946-b464-4148-8b20-d67688c15906"
      },
      "execution_count": null,
      "outputs": [
        {
          "output_type": "execute_result",
          "data": {
            "text/plain": [
              "tensor([[1],\n",
              "        [4],\n",
              "        [7]])"
            ]
          },
          "metadata": {},
          "execution_count": 90
        }
      ]
    },
    {
      "cell_type": "code",
      "source": [
        "# Examples 2\n",
        "a2d[1,:2]"
      ],
      "metadata": {
        "colab": {
          "base_uri": "https://localhost:8080/"
        },
        "id": "M6rzrtpG9ktG",
        "outputId": "fadd1a2c-86fa-4c17-f0c7-6f8af6674b45"
      },
      "execution_count": null,
      "outputs": [
        {
          "output_type": "execute_result",
          "data": {
            "text/plain": [
              "tensor([4, 5])"
            ]
          },
          "metadata": {},
          "execution_count": 91
        }
      ]
    },
    {
      "cell_type": "code",
      "source": [
        "# Examples 3\n",
        "a2d[:,-1]"
      ],
      "metadata": {
        "colab": {
          "base_uri": "https://localhost:8080/"
        },
        "id": "bAVilY0A9rjg",
        "outputId": "91888492-018c-40b3-c7c7-5757868d30ec"
      },
      "execution_count": null,
      "outputs": [
        {
          "output_type": "execute_result",
          "data": {
            "text/plain": [
              "tensor([ 4,  7, 10])"
            ]
          },
          "metadata": {},
          "execution_count": 92
        }
      ]
    },
    {
      "cell_type": "code",
      "source": [
        "# Examples 4\n",
        "a2d[-2:,-3:]"
      ],
      "metadata": {
        "colab": {
          "base_uri": "https://localhost:8080/"
        },
        "id": "7sycQYRK9FYM",
        "outputId": "aeb7351e-004a-4235-e48c-d37808fd7657"
      },
      "execution_count": null,
      "outputs": [
        {
          "output_type": "execute_result",
          "data": {
            "text/plain": [
              "tensor([[ 5,  6,  7],\n",
              "        [ 8,  9, 10]])"
            ]
          },
          "metadata": {},
          "execution_count": 93
        }
      ]
    },
    {
      "cell_type": "code",
      "source": [
        "# Examples 5\n",
        "a2d[1,3]\n"
      ],
      "metadata": {
        "colab": {
          "base_uri": "https://localhost:8080/"
        },
        "id": "bKO1AARd9FiA",
        "outputId": "823f7a5a-26e5-4807-c0e2-5a66f4cf79e7"
      },
      "execution_count": null,
      "outputs": [
        {
          "output_type": "execute_result",
          "data": {
            "text/plain": [
              "tensor(7)"
            ]
          },
          "metadata": {},
          "execution_count": 94
        }
      ]
    },
    {
      "cell_type": "markdown",
      "source": [
        "### Matrix Multiplication\n",
        "\n",
        "In the multiplication of two matrices order matters. This means if <i>X \\* Y</i> is valid, it does not mean <i>Y \\* X</i> is valid. The number of columns of the matrix on the left side of the multiplication sign must equal to the number of rows of the matrix on the right side.\n",
        "\n",
        "First, let us create a tensor <code>X</code> with size 2X3. Then, let us create another tensor <code>Y</code> with size 3X2. Since the number of columns of <code>X</code> is equal to the number of rows of <code>Y</code>. We are able to perform the multiplication. An example is given below:\n",
        "\n",
        ".\n",
        "<img src= \"https://datascienceimages.s3.eu-north-1.amazonaws.com/Tensor_Operations_in_PyTorch/matrix_multi.png\" width=350px/>\n",
        "\n",
        "We use <code>torch.mm()</code> for calculating the multiplication between tensors with different sizes.\n"
      ],
      "metadata": {
        "id": "TxCSBOJFuKkZ"
      }
    },
    {
      "cell_type": "code",
      "source": [
        "# Implementing same above example:\n",
        "\n",
        "A = torch.tensor([[1, 2, 3], [4, 5, 6]])\n",
        "B = torch.tensor([[2, 1], [3, 2], [4, 3]])\n",
        "A_times_B = torch.mm(A,B)\n",
        "print(\"The result of A * B: \", A_times_B)"
      ],
      "metadata": {
        "colab": {
          "base_uri": "https://localhost:8080/"
        },
        "id": "X2vPcP1tufJg",
        "outputId": "90843468-2e09-41db-d01a-4fd83d4791b5"
      },
      "execution_count": null,
      "outputs": [
        {
          "output_type": "stream",
          "name": "stdout",
          "text": [
            "The result of A * B:  tensor([[20, 14],\n",
            "        [47, 32]])\n"
          ]
        }
      ]
    },
    {
      "cell_type": "markdown",
      "source": [
        "### Converting 2D into 1D"
      ],
      "metadata": {
        "id": "c7JgRi42Cf6k"
      }
    },
    {
      "cell_type": "code",
      "source": [
        "t = torch.tensor([[[1, 2],\n",
        "                       [3, 4]],\n",
        "                      [[5, 6],\n",
        "                       [7, 8]]])\n",
        "torch.flatten(t)\n"
      ],
      "metadata": {
        "colab": {
          "base_uri": "https://localhost:8080/"
        },
        "id": "BpDFogNZCfco",
        "outputId": "9e0d02d8-3c00-415b-a30c-8ba603c9a131"
      },
      "execution_count": null,
      "outputs": [
        {
          "output_type": "execute_result",
          "data": {
            "text/plain": [
              "tensor([1, 2, 3, 4, 5, 6, 7, 8])"
            ]
          },
          "metadata": {},
          "execution_count": 96
        }
      ]
    },
    {
      "cell_type": "code",
      "source": [
        "torch.flatten(t, start_dim=1)\n"
      ],
      "metadata": {
        "colab": {
          "base_uri": "https://localhost:8080/"
        },
        "id": "JJ1tQ42cCpwQ",
        "outputId": "fa4eb157-1604-4ccb-aeff-71354edfdc94"
      },
      "execution_count": null,
      "outputs": [
        {
          "output_type": "execute_result",
          "data": {
            "text/plain": [
              "tensor([[1, 2, 3, 4],\n",
              "        [5, 6, 7, 8]])"
            ]
          },
          "metadata": {},
          "execution_count": 97
        }
      ]
    },
    {
      "cell_type": "code",
      "source": [
        "t.reshape(-1)"
      ],
      "metadata": {
        "colab": {
          "base_uri": "https://localhost:8080/"
        },
        "id": "6hwkNnptCz_G",
        "outputId": "6861a428-3b81-45e1-9edc-33c1cac0b005"
      },
      "execution_count": null,
      "outputs": [
        {
          "output_type": "execute_result",
          "data": {
            "text/plain": [
              "tensor([1, 2, 3, 4, 5, 6, 7, 8])"
            ]
          },
          "metadata": {},
          "execution_count": 98
        }
      ]
    },
    {
      "cell_type": "markdown",
      "source": [
        "### Few Standard function for creation of Tensors"
      ],
      "metadata": {
        "id": "-AVhdEUMD-gc"
      }
    },
    {
      "cell_type": "code",
      "source": [
        "#Creating and initializing a random float tensor\n",
        "a = torch.rand(3,4)\n",
        "print(a)"
      ],
      "metadata": {
        "colab": {
          "base_uri": "https://localhost:8080/"
        },
        "id": "AFSvoT8FtJd7",
        "outputId": "8261fc02-4a96-4b17-d343-d55f811c0db7"
      },
      "execution_count": null,
      "outputs": [
        {
          "output_type": "stream",
          "name": "stdout",
          "text": [
            "tensor([[0.3873, 0.0628, 0.7884, 0.9874],\n",
            "        [0.6682, 0.2118, 0.1162, 0.9689],\n",
            "        [0.0936, 0.7244, 0.5470, 0.7935]])\n"
          ]
        }
      ]
    },
    {
      "cell_type": "code",
      "source": [
        "# Creating an Identity tensor\n",
        "a = torch.eye(4,4)\n",
        "print(a)"
      ],
      "metadata": {
        "id": "Wlw6HBHZtRI7",
        "colab": {
          "base_uri": "https://localhost:8080/"
        },
        "outputId": "1c83892a-e811-4765-a4e9-3686234b8ebc"
      },
      "execution_count": null,
      "outputs": [
        {
          "output_type": "stream",
          "name": "stdout",
          "text": [
            "tensor([[1., 0., 0., 0.],\n",
            "        [0., 1., 0., 0.],\n",
            "        [0., 0., 1., 0.],\n",
            "        [0., 0., 0., 1.]])\n"
          ]
        }
      ]
    },
    {
      "cell_type": "code",
      "source": [
        "# Creating a tensor with 1 as all elements\n",
        "a = torch.ones(4,4)\n",
        "a"
      ],
      "metadata": {
        "colab": {
          "base_uri": "https://localhost:8080/"
        },
        "id": "dQcvF_0nEp-w",
        "outputId": "df8a434d-9469-4acb-cc5a-825e8c37db43"
      },
      "execution_count": null,
      "outputs": [
        {
          "output_type": "execute_result",
          "data": {
            "text/plain": [
              "tensor([[1., 1., 1., 1.],\n",
              "        [1., 1., 1., 1.],\n",
              "        [1., 1., 1., 1.],\n",
              "        [1., 1., 1., 1.]])"
            ]
          },
          "metadata": {},
          "execution_count": 101
        }
      ]
    },
    {
      "cell_type": "code",
      "source": [
        "# Creating a tensor with 0 as all elements\n",
        "a = torch.zeros(4,4)\n",
        "a"
      ],
      "metadata": {
        "colab": {
          "base_uri": "https://localhost:8080/"
        },
        "id": "taV9La-eFBN5",
        "outputId": "812b42ee-55e0-445c-ac18-0dddb8174a22"
      },
      "execution_count": null,
      "outputs": [
        {
          "output_type": "execute_result",
          "data": {
            "text/plain": [
              "tensor([[0., 0., 0., 0.],\n",
              "        [0., 0., 0., 0.],\n",
              "        [0., 0., 0., 0.],\n",
              "        [0., 0., 0., 0.]])"
            ]
          },
          "metadata": {},
          "execution_count": 102
        }
      ]
    },
    {
      "cell_type": "markdown",
      "source": [
        "### Concept of Broadcasting"
      ],
      "metadata": {
        "id": "geucF7RsptYy"
      }
    },
    {
      "cell_type": "code",
      "execution_count": null,
      "metadata": {
        "id": "-fufmyJcjnm9",
        "colab": {
          "base_uri": "https://localhost:8080/"
        },
        "outputId": "a1e94ac5-15b5-4b78-f18d-ba3eaf6d600b"
      },
      "outputs": [
        {
          "output_type": "stream",
          "name": "stdout",
          "text": [
            "tensor([[1, 2, 3],\n",
            "        [4, 5, 6]])\n"
          ]
        },
        {
          "output_type": "execute_result",
          "data": {
            "text/plain": [
              "torch.Size([2, 3])"
            ]
          },
          "metadata": {},
          "execution_count": 103
        }
      ],
      "source": [
        "M1=torch.tensor([[1,2,3],[4,5,6]])\n",
        "print(M1)\n",
        "M1.shape"
      ]
    },
    {
      "cell_type": "code",
      "execution_count": null,
      "metadata": {
        "id": "jipOGRnYjnm_",
        "colab": {
          "base_uri": "https://localhost:8080/"
        },
        "outputId": "592fcbfa-808f-47f6-d022-f172cd09acee"
      },
      "outputs": [
        {
          "output_type": "stream",
          "name": "stdout",
          "text": [
            "tensor([[8],\n",
            "        [9]])\n"
          ]
        },
        {
          "output_type": "execute_result",
          "data": {
            "text/plain": [
              "torch.Size([2, 1])"
            ]
          },
          "metadata": {},
          "execution_count": 104
        }
      ],
      "source": [
        "M2=torch.tensor([[8],[9]])\n",
        "print(M2)\n",
        "M2.shape"
      ]
    },
    {
      "cell_type": "code",
      "execution_count": null,
      "metadata": {
        "id": "z5Reuee7jnnC",
        "colab": {
          "base_uri": "https://localhost:8080/"
        },
        "outputId": "5c700342-370f-42a8-baa8-b2b9d17248db"
      },
      "outputs": [
        {
          "output_type": "execute_result",
          "data": {
            "text/plain": [
              "tensor([[ 9, 10, 11],\n",
              "        [13, 14, 15]])"
            ]
          },
          "metadata": {},
          "execution_count": 105
        }
      ],
      "source": [
        "### Mathematically M1 and M2 can not be added as shape doesn't match ,but here they can be added.\n",
        "### M2 has same number of rows as that of M1. Its column gets repicated so that its shape becomes equal to M1.\n",
        "### And then, both added.See result below :\n",
        "M1+M2\n",
        "## This process of replication is broadcasting, actually M2 gets broadcasted along the columns.\n",
        "## The result is given after replication and sum operation, broadcasted M2 is not visible. It is a hidden step."
      ]
    },
    {
      "cell_type": "code",
      "execution_count": null,
      "metadata": {
        "id": "p4Q00pMNjnnI",
        "colab": {
          "base_uri": "https://localhost:8080/"
        },
        "outputId": "eb1ce9c6-1234-415b-8a99-d61a6e3ab59a"
      },
      "outputs": [
        {
          "output_type": "stream",
          "name": "stdout",
          "text": [
            "tensor([[10, 20, 30]])\n"
          ]
        },
        {
          "output_type": "execute_result",
          "data": {
            "text/plain": [
              "torch.Size([1, 3])"
            ]
          },
          "metadata": {},
          "execution_count": 106
        }
      ],
      "source": [
        "# Making another array M3\n",
        "M3=torch.tensor([[10,20,30]])\n",
        "print(M3)\n",
        "M3.shape"
      ]
    },
    {
      "cell_type": "code",
      "execution_count": null,
      "metadata": {
        "id": "v7Kj8dv0jnnJ",
        "colab": {
          "base_uri": "https://localhost:8080/"
        },
        "outputId": "6610aaf2-749c-416b-fd3d-4b964dfceb1a"
      },
      "outputs": [
        {
          "output_type": "execute_result",
          "data": {
            "text/plain": [
              "tensor([[11, 22, 33],\n",
              "        [14, 25, 36]])"
            ]
          },
          "metadata": {},
          "execution_count": 107
        }
      ],
      "source": [
        "### Mathematically M1 and M3 can not be added as shape doesn't match ,but here they can be added.\n",
        "### M3 has same number of columnss as that of M1. Its row gets repicated so that its shape becomes equal to M1.\n",
        "### And then, both added.see result below\n",
        "M1+M3\n",
        "## This process of replication is broadcasting actually M3 gets broadcasted down the rows.\n",
        "## We will see result after replication and sum operation, broadcasted M3 is not visible,it is hidden step."
      ]
    },
    {
      "cell_type": "markdown",
      "source": [
        "### Higher-order tensor\n",
        "We will try to understand this concept through a representation of an image with their color pixel codings. A colored image consists of three channels of pixels one for Red color, one for Green color, and one for Blue color. Each channel is a 2D matrix. That means, any colored image is represented by a 3-tensor of pixels composed of three 2D matrices stacked one after another and each 2D matrix is called a channel. Say we have an image of 32 megapixels then the shape of the tensor representation of this image is (32,32,3), i.e. three 32X32 matrices are stacked one after another. So this is a tensor of order/rank 3 and it is used for the representation of an image.\n",
        "\n",
        "<img src= \"https://datascienceimages.s3.eu-north-1.amazonaws.com/Tensor_Operations_in_PyTorch/Higher_order_tensor.png?\" width=480px/>\n",
        "\n",
        "Now, say there are 100 such images, then the tensor will be of 4th order and the shape will be (100,32,32,3). So the tensor contains information of 100 images each consists of RGB  channels of 32 by 32 megapixel.\n"
      ],
      "metadata": {
        "id": "anyakXL47E5o"
      }
    },
    {
      "cell_type": "code",
      "source": [
        "torch.zeros([3,2,3]) # Making a 3 rank/order tensor filled with zeros."
      ],
      "metadata": {
        "colab": {
          "base_uri": "https://localhost:8080/"
        },
        "id": "RKxABbhkAY9m",
        "outputId": "4bde8565-e0b1-4ba0-805e-5711caad0d76"
      },
      "execution_count": null,
      "outputs": [
        {
          "output_type": "execute_result",
          "data": {
            "text/plain": [
              "tensor([[[0., 0., 0.],\n",
              "         [0., 0., 0.]],\n",
              "\n",
              "        [[0., 0., 0.],\n",
              "         [0., 0., 0.]],\n",
              "\n",
              "        [[0., 0., 0.],\n",
              "         [0., 0., 0.]]])"
            ]
          },
          "metadata": {},
          "execution_count": 108
        }
      ]
    },
    {
      "cell_type": "code",
      "source": [
        "torch.zeros([2,3,2,3]) # Making a 4 rank/order tensor filled with zeros."
      ],
      "metadata": {
        "colab": {
          "base_uri": "https://localhost:8080/"
        },
        "id": "-LKG73gyActK",
        "outputId": "4e43d453-878f-41ce-ec5d-966f1367f7c2"
      },
      "execution_count": null,
      "outputs": [
        {
          "output_type": "execute_result",
          "data": {
            "text/plain": [
              "tensor([[[[0., 0., 0.],\n",
              "          [0., 0., 0.]],\n",
              "\n",
              "         [[0., 0., 0.],\n",
              "          [0., 0., 0.]],\n",
              "\n",
              "         [[0., 0., 0.],\n",
              "          [0., 0., 0.]]],\n",
              "\n",
              "\n",
              "        [[[0., 0., 0.],\n",
              "          [0., 0., 0.]],\n",
              "\n",
              "         [[0., 0., 0.],\n",
              "          [0., 0., 0.]],\n",
              "\n",
              "         [[0., 0., 0.],\n",
              "          [0., 0., 0.]]]])"
            ]
          },
          "metadata": {},
          "execution_count": 109
        }
      ]
    },
    {
      "cell_type": "markdown",
      "source": [
        "### Gradient Calculation : [Autograd](https://pytorch.org/tutorials/beginner/blitz/autograd_tutorial.html) in PyTorch"
      ],
      "metadata": {
        "id": "zXQfQ71pF0Fr"
      }
    },
    {
      "cell_type": "code",
      "source": [
        "# Create a tensor x\n",
        "\n",
        "x = torch.tensor(2.0, requires_grad = True)\n",
        "print(\"The tensor x: \", x)"
      ],
      "metadata": {
        "colab": {
          "base_uri": "https://localhost:8080/"
        },
        "id": "4zzPXUk-F3UH",
        "outputId": "77d19c6a-5b35-4c6b-c161-f690b96d4756"
      },
      "execution_count": null,
      "outputs": [
        {
          "output_type": "stream",
          "name": "stdout",
          "text": [
            "The tensor x:  tensor(2., requires_grad=True)\n"
          ]
        }
      ]
    },
    {
      "cell_type": "code",
      "source": [
        "# Create a tensor y according to y = x^2\n",
        "\n",
        "y = x ** 2\n",
        "print(\"The result of y = x^2: \", y)"
      ],
      "metadata": {
        "colab": {
          "base_uri": "https://localhost:8080/"
        },
        "id": "senOcxsN2j-u",
        "outputId": "67ee0910-80c0-4ddf-e57b-67abca530ed4"
      },
      "execution_count": null,
      "outputs": [
        {
          "output_type": "stream",
          "name": "stdout",
          "text": [
            "The result of y = x^2:  tensor(4., grad_fn=<PowBackward0>)\n"
          ]
        }
      ]
    },
    {
      "cell_type": "code",
      "source": [
        "# Take the derivative. Try to print out the derivative at the value x = 2\n",
        "y.backward()\n",
        "print(\"The dervative at x = 2: \", x.grad)"
      ],
      "metadata": {
        "colab": {
          "base_uri": "https://localhost:8080/"
        },
        "id": "kSp_0F5aF9eF",
        "outputId": "3386e8d3-9c7c-41ba-baf3-083ed89475a1"
      },
      "execution_count": null,
      "outputs": [
        {
          "output_type": "stream",
          "name": "stdout",
          "text": [
            "The dervative at x = 2:  tensor(4.)\n"
          ]
        }
      ]
    },
    {
      "cell_type": "markdown",
      "source": [
        "The preceding lines perform the following operation:\n",
        "\n",
        "$\\frac{\\mathrm{dy(x)}}{\\mathrm{dx}}=2x$\n",
        "\n",
        "$\\frac{\\mathrm{dy(x=2)}}{\\mathrm{dx}}=2(2)=4$"
      ],
      "metadata": {
        "id": "rxFvK32RGCTV"
      }
    },
    {
      "cell_type": "markdown",
      "source": [
        "Let us try to calculate the derivative for a more complicated function.\n"
      ],
      "metadata": {
        "id": "j6UC4h-JGLml"
      }
    },
    {
      "cell_type": "code",
      "source": [
        "# Calculate the y = x^2 + 2x + 1, then find the derivative\n",
        "\n",
        "x = torch.tensor(3.0, requires_grad = True)\n",
        "y = x ** 2 + 2 * x + 1\n",
        "print(\"The result of y = x^2 + 2x + 1: \", y)\n",
        "y.backward()\n",
        "print(\"The dervative at x = 2: \", x.grad)"
      ],
      "metadata": {
        "colab": {
          "base_uri": "https://localhost:8080/"
        },
        "id": "bSV0WWp1GMhJ",
        "outputId": "a67a49ce-75c4-4916-ead6-7a4a35da664a"
      },
      "execution_count": null,
      "outputs": [
        {
          "output_type": "stream",
          "name": "stdout",
          "text": [
            "The result of y = x^2 + 2x + 1:  tensor(16., grad_fn=<AddBackward0>)\n",
            "The dervative at x = 2:  tensor(8.)\n"
          ]
        }
      ]
    },
    {
      "cell_type": "code",
      "source": [
        "dy/dx = 2*x+2 // -->  d(x^n)/dx = n*x ^(n-1)"
      ],
      "metadata": {
        "id": "eY8lop73akKg"
      },
      "execution_count": null,
      "outputs": []
    },
    {
      "cell_type": "markdown",
      "source": [
        "#### Partial Derivatives"
      ],
      "metadata": {
        "id": "KmTKYDxvGy0J"
      }
    },
    {
      "cell_type": "code",
      "source": [
        "# Calculate the z = x^3 + (x^2) * (y^2) - y^3, then find the derivative\n",
        "\n",
        "x = torch.tensor(2.0, requires_grad = True)\n",
        "y = torch.tensor(3.0, requires_grad = True)\n",
        "z = x**3 + (x**2) * (y**2) - y**3\n",
        "\n",
        "print(\"The result of z = x^3 -x^2*y^2 y^3 at (2,3):\", z )\n",
        "\n",
        "z.backward()\n",
        "print(\"The dervative fn --> z wrt x at (2,3): \", x.grad)\n",
        "print(\"The dervative fn --> z wrt y at (2,3): \", y.grad)"
      ],
      "metadata": {
        "colab": {
          "base_uri": "https://localhost:8080/"
        },
        "id": "7lC0J3pyBXJj",
        "outputId": "a838b5ed-48b5-4719-f963-0e6683fdc916"
      },
      "execution_count": null,
      "outputs": [
        {
          "output_type": "stream",
          "name": "stdout",
          "text": [
            "The result of z = x^3 -x^2*y^2 y^3 at (2,3): tensor(17., grad_fn=<SubBackward0>)\n",
            "The dervative fn --> z wrt x at (2,3):  tensor(48.)\n",
            "The dervative fn --> z wrt y at (2,3):  tensor(-3.)\n"
          ]
        }
      ]
    },
    {
      "cell_type": "markdown",
      "metadata": {
        "id": "lNJZQcnddMoC"
      },
      "source": [
        "##**CUDA Tensors**"
      ]
    },
    {
      "cell_type": "markdown",
      "metadata": {
        "id": "U7gXIIyjAXqO"
      },
      "source": [
        "#### Checking the availability of CUDA/GPU\n",
        " - Go to the Runtime and change the runtime type to GPU before proceeding.\n",
        " - Run the cell for importing libraries again.\n",
        "\n"
      ]
    },
    {
      "cell_type": "code",
      "metadata": {
        "id": "_wqlDh-VbFWP",
        "colab": {
          "base_uri": "https://localhost:8080/"
        },
        "outputId": "606a3a65-8996-41c3-e014-11259e59ebdc"
      },
      "source": [
        "torch.cuda.is_available()"
      ],
      "execution_count": null,
      "outputs": [
        {
          "output_type": "execute_result",
          "data": {
            "text/plain": [
              "True"
            ]
          },
          "metadata": {},
          "execution_count": 2
        }
      ]
    },
    {
      "cell_type": "code",
      "metadata": {
        "id": "qkIDqwYPdZpe",
        "colab": {
          "base_uri": "https://localhost:8080/"
        },
        "outputId": "b7b80d82-339b-4cf9-bbad-a540919d161c"
      },
      "source": [
        "# Linux bash command to print the status of nvidia gpu (memory and processes)\n",
        "!nvidia-smi"
      ],
      "execution_count": null,
      "outputs": [
        {
          "output_type": "stream",
          "name": "stdout",
          "text": [
            "Sat Mar 16 04:08:37 2024       \n",
            "+---------------------------------------------------------------------------------------+\n",
            "| NVIDIA-SMI 535.104.05             Driver Version: 535.104.05   CUDA Version: 12.2     |\n",
            "|-----------------------------------------+----------------------+----------------------+\n",
            "| GPU  Name                 Persistence-M | Bus-Id        Disp.A | Volatile Uncorr. ECC |\n",
            "| Fan  Temp   Perf          Pwr:Usage/Cap |         Memory-Usage | GPU-Util  Compute M. |\n",
            "|                                         |                      |               MIG M. |\n",
            "|=========================================+======================+======================|\n",
            "|   0  Tesla T4                       Off | 00000000:00:04.0 Off |                    0 |\n",
            "| N/A   54C    P8              10W /  70W |      3MiB / 15360MiB |      0%      Default |\n",
            "|                                         |                      |                  N/A |\n",
            "+-----------------------------------------+----------------------+----------------------+\n",
            "                                                                                         \n",
            "+---------------------------------------------------------------------------------------+\n",
            "| Processes:                                                                            |\n",
            "|  GPU   GI   CI        PID   Type   Process name                            GPU Memory |\n",
            "|        ID   ID                                                             Usage      |\n",
            "|=======================================================================================|\n",
            "|  No running processes found                                                           |\n",
            "+---------------------------------------------------------------------------------------+\n"
          ]
        }
      ]
    },
    {
      "cell_type": "markdown",
      "metadata": {
        "id": "gXpbPJ0dAnze"
      },
      "source": [
        "####Defining the device object (cpu/gpu)"
      ]
    },
    {
      "cell_type": "code",
      "metadata": {
        "id": "0heiVkdBdiAe",
        "colab": {
          "base_uri": "https://localhost:8080/",
          "height": 88
        },
        "outputId": "94ef762c-f17c-4640-bd5a-345c37a4b736"
      },
      "source": [
        "device = torch.device(\"cuda\")\n",
        "x = torch.rand(3,3)\n",
        "print(x)\n",
        "x.type()"
      ],
      "execution_count": null,
      "outputs": [
        {
          "output_type": "stream",
          "name": "stdout",
          "text": [
            "tensor([[0.6861, 0.7114, 0.4613],\n",
            "        [0.3975, 0.8791, 0.3641],\n",
            "        [0.7039, 0.4082, 0.6282]])\n"
          ]
        },
        {
          "output_type": "execute_result",
          "data": {
            "text/plain": [
              "'torch.FloatTensor'"
            ],
            "application/vnd.google.colaboratory.intrinsic+json": {
              "type": "string"
            }
          },
          "metadata": {},
          "execution_count": 4
        }
      ]
    },
    {
      "cell_type": "code",
      "metadata": {
        "id": "xR2cjesYAsYW",
        "colab": {
          "base_uri": "https://localhost:8080/",
          "height": 36
        },
        "outputId": "de399bec-0450-427c-e1dc-d08c94543d16"
      },
      "source": [
        "x = x.to(device)\n",
        "x.type()"
      ],
      "execution_count": null,
      "outputs": [
        {
          "output_type": "execute_result",
          "data": {
            "text/plain": [
              "'torch.cuda.FloatTensor'"
            ],
            "application/vnd.google.colaboratory.intrinsic+json": {
              "type": "string"
            }
          },
          "metadata": {},
          "execution_count": 5
        }
      ]
    },
    {
      "cell_type": "markdown",
      "metadata": {
        "id": "DzgU1Lw2A2qc"
      },
      "source": [
        "####Transferring the tensor from gpu->cpu"
      ]
    },
    {
      "cell_type": "code",
      "metadata": {
        "id": "V9VMq1zJd-N9",
        "colab": {
          "base_uri": "https://localhost:8080/",
          "height": 36
        },
        "outputId": "7b03d095-d8bd-4ab4-f4b7-ef4f09c8960d"
      },
      "source": [
        "# Transferring the tensor from gpu->cpu\n",
        "device_cpu = torch.device(\"cpu\")\n",
        "x = x.to(device_cpu)\n",
        "x.type()"
      ],
      "execution_count": null,
      "outputs": [
        {
          "output_type": "execute_result",
          "data": {
            "text/plain": [
              "'torch.FloatTensor'"
            ],
            "application/vnd.google.colaboratory.intrinsic+json": {
              "type": "string"
            }
          },
          "metadata": {},
          "execution_count": 6
        }
      ]
    },
    {
      "cell_type": "markdown",
      "source": [
        "### Low level implementation of Backpropagation in PyTorch for Regression task using simple NN\n"
      ],
      "metadata": {
        "id": "K-TTTVWSHYZy"
      }
    },
    {
      "cell_type": "code",
      "source": [
        "import torch\n",
        "torch.manual_seed(42)\n",
        "\n",
        "N, D_in, H, D_out=5000,100,10,1\n",
        "x = torch.randn(N, D_in, requires_grad=False)\n",
        "y = torch.randn(N, D_out, requires_grad=False)\n",
        "w1 = torch.randn(D_in,H, requires_grad=True)\n",
        "w2 = torch.randn(H, D_out, requires_grad=True)\n",
        "learning_rate = 1e-6\n",
        "for t in range(500):\n",
        "    y_pred = x.mm(w1).clamp(min=0).mm(w2)\n",
        "    loss = (y_pred-y).pow(2).sum()\n",
        "    loss.backward()\n",
        "    with torch.inference_mode():\n",
        "      w1 -= learning_rate*w1.grad\n",
        "      w2 -= learning_rate*w2.grad\n",
        "      w1.grad.zero_()\n",
        "      w2.grad.zero_()\n",
        "    if t%100==0:\n",
        "      print(loss)"
      ],
      "metadata": {
        "colab": {
          "base_uri": "https://localhost:8080/"
        },
        "id": "ucJ1GP5HzT9B",
        "outputId": "20235371-2431-441b-e21c-f91740a316e3"
      },
      "execution_count": null,
      "outputs": [
        {
          "output_type": "stream",
          "name": "stdout",
          "text": [
            "tensor(2581039.2500, grad_fn=<SumBackward0>)\n",
            "tensor(4979.2939, grad_fn=<SumBackward0>)\n",
            "tensor(4979.2900, grad_fn=<SumBackward0>)\n",
            "tensor(4979.2861, grad_fn=<SumBackward0>)\n",
            "tensor(4979.2832, grad_fn=<SumBackward0>)\n"
          ]
        }
      ]
    }
  ]
}